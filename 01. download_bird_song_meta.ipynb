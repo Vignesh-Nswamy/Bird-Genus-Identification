{
 "cells": [
  {
   "cell_type": "code",
   "execution_count": 1,
   "metadata": {},
   "outputs": [],
   "source": [
    "import requests\n",
    "import pandas\n",
    "import pprint\n",
    "from IPython.display import clear_output"
   ]
  },
  {
   "cell_type": "code",
   "execution_count": 2,
   "metadata": {},
   "outputs": [],
   "source": [
    "def fetch_data(page=None):\n",
    "    query_params = {\"cnt\": 'brazil',\n",
    "                    \"q\": \"A\",\n",
    "                    \"type\": \"song\",\n",
    "#                     \"also\": \"\"\n",
    "    #                 \"length|\": \"0:47\"\n",
    "    #                 \"gen\": genus,\n",
    "    #                 \"rec\": recordist,\n",
    "    #                 \"loc\": f'\"{location}\"' if location else None,  # Location must be wrapped in double quotes.\n",
    "    #                 \"rmk\": remarks,\n",
    "    #                 \"lat\": latitude,\n",
    "    #                 \"lon\": longitude,\n",
    "    #                 \"box\": box,\n",
    "    #                 \"nr\": catalogue_number,\n",
    "    #                 \"lic\": license,\n",
    "    #                 \"area\": area,\n",
    "    #                 \"since\": since,\n",
    "    #                 \"year\": year,\n",
    "    #                 \"month\": month\n",
    "                   }\n",
    "    query = \" \".join([f\"{name}:{var}\" for name, var in query_params.items() if var])\n",
    "    r = requests.get('https://www.xeno-canto.org/api/2/recordings', params={\"query\": query, \"page\": page})\n",
    "    return r.json()"
   ]
  },
  {
   "cell_type": "code",
   "execution_count": 3,
   "metadata": {},
   "outputs": [],
   "source": [
    "def append_to_frame(data_frame, recordings):\n",
    "    for recording in recordings['recordings']:\n",
    "        mins_secs = recording['length'].split(':')\n",
    "        data_frame = data_frame.append({\n",
    "            'file_id': recording['id'],\n",
    "            'genus': recording['gen'],\n",
    "            'species': recording['sp'],\n",
    "            'name': recording['en'],\n",
    "            'download_url': 'https://www.xeno-canto.org/{}/download'.format(recording['id']),\n",
    "            'file_name': recording['file-name'],\n",
    "            'duration': int(mins_secs[0]) * 60 + int(mins_secs[1]),\n",
    "            'other_species_in_recording': ', '.join(recording['also'])\n",
    "        }, ignore_index=True)\n",
    "    return data_frame"
   ]
  },
  {
   "cell_type": "code",
   "execution_count": 4,
   "metadata": {},
   "outputs": [],
   "source": [
    "birds = pandas.DataFrame(columns=['file_id', 'genus', 'species', 'name', 'download_url', 'file_name', 'duration', 'other_species_in_recording'])"
   ]
  },
  {
   "cell_type": "code",
   "execution_count": 5,
   "metadata": {},
   "outputs": [
    {
     "name": "stdout",
     "output_type": "stream",
     "text": [
      "Fetched 23 of 23 pages.\n"
     ]
    }
   ],
   "source": [
    "initial_data = fetch_data()\n",
    "num_pages = initial_data['numPages']\n",
    "num_recordings = initial_data['numRecordings']\n",
    "birds = append_to_frame(birds, initial_data)\n",
    "for i in range(2, num_pages+1, 1):\n",
    "    clear_output(wait=True)\n",
    "    birds = append_to_frame(birds, fetch_data(page=i))\n",
    "    print('Fetched {} of {} pages.'.format(i, num_pages))"
   ]
  },
  {
   "cell_type": "code",
   "execution_count": 6,
   "metadata": {},
   "outputs": [
    {
     "name": "stderr",
     "output_type": "stream",
     "text": [
      "C:\\Applications\\Anaconda3\\lib\\site-packages\\ipykernel_launcher.py:1: UserWarning: Boolean Series key will be reindexed to match DataFrame index.\n",
      "  \"\"\"Entry point for launching an IPython kernel.\n"
     ]
    }
   ],
   "source": [
    "birds = birds[birds['duration'] >= 20][birds['name'] != 'Identity unknown']\n",
    "birds = birds[birds.groupby('genus').genus.transform(len) > 15].reset_index()"
   ]
  },
  {
   "cell_type": "code",
   "execution_count": 8,
   "metadata": {},
   "outputs": [
    {
     "data": {
      "text/plain": [
       "(6210, 9)"
      ]
     },
     "execution_count": 8,
     "metadata": {},
     "output_type": "execute_result"
    }
   ],
   "source": [
    "birds.shape"
   ]
  },
  {
   "cell_type": "code",
   "execution_count": 9,
   "metadata": {},
   "outputs": [],
   "source": [
    "birds.to_csv('birds_dataset.csv')"
   ]
  }
 ],
 "metadata": {
  "kernelspec": {
   "display_name": "Python 3",
   "language": "python",
   "name": "python3"
  },
  "language_info": {
   "codemirror_mode": {
    "name": "ipython",
    "version": 3
   },
   "file_extension": ".py",
   "mimetype": "text/x-python",
   "name": "python",
   "nbconvert_exporter": "python",
   "pygments_lexer": "ipython3",
   "version": "3.7.6"
  }
 },
 "nbformat": 4,
 "nbformat_minor": 2
}
