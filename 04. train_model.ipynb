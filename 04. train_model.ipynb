{
 "cells": [
  {
   "cell_type": "code",
   "execution_count": null,
   "metadata": {
    "colab": {
     "base_uri": "https://localhost:8080/",
     "height": 122
    },
    "colab_type": "code",
    "id": "SfadM2uMeYca",
    "outputId": "880f5876-0a0c-4614-b186-0bedd3405bc0"
   },
   "outputs": [],
   "source": [
    "# from google.colab import drive\n",
    "# drive.mount('/content/drive')"
   ]
  },
  {
   "cell_type": "code",
   "execution_count": null,
   "metadata": {
    "colab": {},
    "colab_type": "code",
    "id": "wLrirP19DAu2"
   },
   "outputs": [],
   "source": [
    "import numpy\n",
    "import os\n",
    "import tensorflow as tf"
   ]
  },
  {
   "cell_type": "code",
   "execution_count": null,
   "metadata": {
    "colab": {},
    "colab_type": "code",
    "id": "e2YlnNF_rjA_"
   },
   "outputs": [],
   "source": [
    "train_set = numpy.load('train_data.npz')\n",
    "x_train = train_set['arr_0']\n",
    "y_train = train_set['arr_1']"
   ]
  },
  {
   "cell_type": "code",
   "execution_count": null,
   "metadata": {
    "colab": {},
    "colab_type": "code",
    "id": "7ZWd4c-TeXge"
   },
   "outputs": [],
   "source": [
    "train_set = numpy.load('test_data.npz')\n",
    "x_test = train_set['arr_0']\n",
    "y_test = train_set['arr_1']"
   ]
  },
  {
   "cell_type": "code",
   "execution_count": null,
   "metadata": {
    "colab": {},
    "colab_type": "code",
    "id": "YArmpIV6fASN"
   },
   "outputs": [],
   "source": [
    "val_set = numpy.load('validation_data.npz')\n",
    "x_val = val_set['arr_0']\n",
    "y_val = val_set['arr_1']"
   ]
  },
  {
   "cell_type": "code",
   "execution_count": null,
   "metadata": {
    "colab": {},
    "colab_type": "code",
    "id": "QhT8Gms3C3QJ"
   },
   "outputs": [],
   "source": [
    "x_train = numpy.expand_dims(x_train, axis = -1)\n",
    "x_val = numpy.expand_dims(x_val, axis = -1)\n",
    "x_test = numpy.expand_dims(x_test, axis = -1)"
   ]
  },
  {
   "cell_type": "code",
   "execution_count": null,
   "metadata": {
    "colab": {
     "base_uri": "https://localhost:8080/",
     "height": 34
    },
    "colab_type": "code",
    "id": "uWQoz8WTruNP",
    "outputId": "293c2413-bb03-4be3-ea74-a3eed2a25167"
   },
   "outputs": [],
   "source": [
    "# print(x_val.shape)"
   ]
  },
  {
   "cell_type": "code",
   "execution_count": null,
   "metadata": {
    "colab": {},
    "colab_type": "code",
    "id": "4QZ11wGQwOwB"
   },
   "outputs": [],
   "source": [
    "def get_dataset(x_train, y_train, x_val, y_val):\n",
    "  # x_train = tf.convert_to_tensor(x_train, dtype=x_train.dtype, dtype_hint=None, name='x_train').batch(batch_size)\n",
    "  # y_train = tf.convert_to_tensor(y_train, dtype=y_train.dtype, dtype_hint=None, name='y_train').batch(batch_size)\n",
    "  # x_val = tf.convert_to_tensor(x_val, dtype=x_val.dtype, dtype_hint=None, name='x_val').batch(batch_size)\n",
    "  # y_val = tf.convert_to_tensor(y_val, dtype=y_val.dtype, dtype_hint=None, name='y_val').batch(batch_size)\n",
    "  # train_dataset = tf.data.Dataset.from_tensor_slices((x_train, y_train)).shuffle(5000).batch(batch_size)\n",
    "  # val_dataset = tf.data.Dataset.from_tensor_slices((x_val, y_val)).batch(batch_size)\n",
    "  train_dataset = tf.data.Dataset.from_tensor_slices((x_train, y_train)).shuffle(5000)\n",
    "  val_dataset = tf.data.Dataset.from_tensor_slices((x_val, y_val))\n",
    "  return train_dataset, val_dataset"
   ]
  },
  {
   "cell_type": "code",
   "execution_count": null,
   "metadata": {
    "colab": {},
    "colab_type": "code",
    "id": "6fk8mnWdDi5N"
   },
   "outputs": [],
   "source": [
    "def init_model(input_shape):  \n",
    "  n_classes = 278\n",
    "  conv_kernel_size = (3, 1)\n",
    "  lstm_hidden_units = 64\n",
    "  # Input layer\n",
    "  input_layer = tf.keras.layers.Input(input_shape, name='input')\n",
    "  # Convolutional branch\n",
    "  # convolution 1\n",
    "  conv_1 = tf.keras.layers.Conv2D(16, conv_kernel_size, activation='relu')(input_layer)\n",
    "  max_pool_1 = tf.keras.layers.MaxPooling2D(2, 2)(conv_1)\n",
    "  # convolution 2\n",
    "  conv_2 = tf.keras.layers.Conv2D(32, conv_kernel_size, activation='relu')(max_pool_1)\n",
    "  max_pool_2 = tf.keras.layers.MaxPooling2D(2,2)(conv_2)\n",
    "  # dropout_1 = tf.keras.layers.Dropout(0.5)(max_pool_2)\n",
    "  # convolution 3\n",
    "  conv_3 = tf.keras.layers.Conv2D(64, conv_kernel_size, activation='relu')(max_pool_2)\n",
    "  max_pool_3 = tf.keras.layers.MaxPooling2D(2,2)(conv_3)\n",
    "  # convolution 4\n",
    "  conv_4 = tf.keras.layers.Conv2D(64, conv_kernel_size, activation='relu')(max_pool_3)\n",
    "  max_pool_4 = tf.keras.layers.MaxPooling2D(4,4)(conv_4)\n",
    "  # dropout_2 = tf.keras.layers.Dropout(0.5)(max_pool_4)\n",
    "  conv_5 = tf.keras.layers.Conv2D(64, conv_kernel_size, activation='relu')(max_pool_4)\n",
    "  max_pool_5 = tf.keras.layers.MaxPooling2D((4, 4))(conv_5)\n",
    "  # Flatten\n",
    "  flatten_1 = tf.keras.layers.Flatten()(max_pool_5)\n",
    "  # Recurrent branch\n",
    "  max_pool_lstm = tf.keras.layers.MaxPooling2D(2, 2)(input_layer)\n",
    "  squeeze_lambda = tf.keras.layers.Lambda(lambda x: tf.keras.backend.squeeze(x, axis= -1))(max_pool_lstm)\n",
    "  lstm = tf.keras.layers.Bidirectional(tf.keras.layers.LSTM(lstm_hidden_units))(squeeze_lambda)\n",
    "  # Concatenate convolutional and recurrent branches\n",
    "  combine_cnn_rnn = tf.keras.layers.concatenate([flatten_1, lstm], axis=-1, name ='combine')\n",
    "  # dropout_3 = tf.keras.layers.Dropout(0.5)(combine_cnn_rnn)\n",
    "  output_layer = tf.keras.layers.Dense(n_classes, activation='softmax')(combine_cnn_rnn)\n",
    "  model = tf.keras.models.Model(input_layer, output_layer)\n",
    "  \n",
    "  print(model.summary())\n",
    "  return model"
   ]
  },
  {
   "cell_type": "code",
   "execution_count": null,
   "metadata": {
    "colab": {
     "base_uri": "https://localhost:8080/",
     "height": 765
    },
    "colab_type": "code",
    "id": "ox7go3F_dcSb",
    "outputId": "65b98ed3-172b-4915-c4b4-6c595c72fd06"
   },
   "outputs": [],
   "source": [
    "# def train_model(x_train, y_train, x_val, y_val):\n",
    "n_frequency = 128\n",
    "n_frames = 862 \n",
    "\n",
    "input_shape = (n_frames, n_frequency, 1)\n",
    "reducelr_callback = tf.keras.callbacks.ReduceLROnPlateau(\n",
    "            monitor='val_accuracy', factor=0.5, patience=10, min_delta=0.01,\n",
    "            verbose=1\n",
    "        )\n",
    "\n",
    "callbacks_list = [reducelr_callback]\n",
    "\n",
    "\n",
    "# resolver = tf.distribute.cluster_resolver.TPUClusterResolver(tpu='grpc://' + os.environ['COLAB_TPU_ADDR'])\n",
    "# tf.config.experimental_connect_to_host(resolver.master())\n",
    "# tf.tpu.experimental.initialize_tpu_system(resolver)\n",
    "# strategy = tf.distribute.experimental.TPUStrategy(resolver)\n",
    "# with strategy.scope():\n",
    "model = init_model(input_shape)\n",
    "opt = tf.keras.optimizers.RMSprop(lr=0.0005)  # Optimizer\n",
    "model.compile(\n",
    "        loss='categorical_crossentropy',\n",
    "        optimizer=opt,\n",
    "        metrics=['accuracy']\n",
    "    )\n",
    "# train_dataset, val_dataset = get_dataset(x_train, y_train, x_val, y_val)"
   ]
  },
  {
   "cell_type": "code",
   "execution_count": null,
   "metadata": {
    "colab": {
     "base_uri": "https://localhost:8080/",
     "height": 1000
    },
    "colab_type": "code",
    "id": "-psEOOCRIspo",
    "outputId": "5b9ae3a8-e236-4719-b8c3-f4d883f58315"
   },
   "outputs": [],
   "source": [
    "history = model.fit(x_train, y_train, epochs=50, batch_size=64, validation_data=(x_val, y_val), verbose=2, callbacks=callbacks_list)"
   ]
  },
  {
   "cell_type": "code",
   "execution_count": null,
   "metadata": {
    "colab": {
     "base_uri": "https://localhost:8080/",
     "height": 51
    },
    "colab_type": "code",
    "id": "vwGt8Uk3LVkP",
    "outputId": "39d15ecf-5966-4f33-a401-05a2fd611c45"
   },
   "outputs": [],
   "source": [
    "results = model.evaluate(x_test, y_test, batch_size=128)\n",
    "print('test loss, test acc:', results)"
   ]
  }
 ],
 "metadata": {
  "accelerator": "GPU",
  "colab": {
   "collapsed_sections": [],
   "machine_shape": "hm",
   "name": "model.ipynb",
   "provenance": []
  },
  "kernelspec": {
   "display_name": "Python 3",
   "language": "python",
   "name": "python3"
  },
  "language_info": {
   "codemirror_mode": {
    "name": "ipython",
    "version": 3
   },
   "file_extension": ".py",
   "mimetype": "text/x-python",
   "name": "python",
   "nbconvert_exporter": "python",
   "pygments_lexer": "ipython3",
   "version": "3.7.6"
  }
 },
 "nbformat": 4,
 "nbformat_minor": 1
}
