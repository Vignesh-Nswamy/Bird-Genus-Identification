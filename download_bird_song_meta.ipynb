{
 "cells": [
  {
   "cell_type": "code",
   "execution_count": 0,
   "metadata": {
    "colab": {},
    "colab_type": "code",
    "id": "bnFon4F7PS2U"
   },
   "outputs": [],
   "source": [
    "import requests\n",
    "import pandas\n",
    "import pprint\n",
    "from IPython.display import clear_output"
   ]
  },
  {
   "cell_type": "code",
   "execution_count": 0,
   "metadata": {
    "colab": {},
    "colab_type": "code",
    "id": "ZEqS8h0aQEyE"
   },
   "outputs": [],
   "source": [
    "parent_path = ''"
   ]
  },
  {
   "cell_type": "code",
   "execution_count": 0,
   "metadata": {
    "colab": {},
    "colab_type": "code",
    "id": "wLjsXCz_PS2n"
   },
   "outputs": [],
   "source": [
    "def fetch_data(page=None, quality='A'):\n",
    "    query_params = {\"cnt\": 'brazil',\n",
    "                    \"q\": quality,\n",
    "                    \"type\": \"song\",\n",
    "#                     \"also\": \"\"\n",
    "    #                 \"length|\": \"0:47\"\n",
    "    #                 \"gen\": genus,\n",
    "    #                 \"rec\": recordist,\n",
    "    #                 \"loc\": f'\"{location}\"' if location else None,  # Location must be wrapped in double quotes.\n",
    "    #                 \"rmk\": remarks,\n",
    "    #                 \"lat\": latitude,\n",
    "    #                 \"lon\": longitude,\n",
    "    #                 \"box\": box,\n",
    "    #                 \"nr\": catalogue_number,\n",
    "    #                 \"lic\": license,\n",
    "    #                 \"area\": area,\n",
    "    #                 \"since\": since,\n",
    "    #                 \"year\": year,\n",
    "    #                 \"month\": month\n",
    "                   }\n",
    "    query = \" \".join([f\"{name}:{var}\" for name, var in query_params.items() if var])\n",
    "    r = requests.get('https://www.xeno-canto.org/api/2/recordings', params={\"query\": query, \"page\": page})\n",
    "    return r.json()"
   ]
  },
  {
   "cell_type": "code",
   "execution_count": 0,
   "metadata": {
    "colab": {},
    "colab_type": "code",
    "id": "RNIsmXrJPS2x"
   },
   "outputs": [],
   "source": [
    "def append_to_frame(data_frame, recordings):\n",
    "    for recording in recordings['recordings']:\n",
    "        # print(recording)\n",
    "        mins_secs = recording['length'].split(':')\n",
    "        data_frame = data_frame.append({\n",
    "            'file_id': recording['id'],\n",
    "            'genus': recording['gen'],\n",
    "            'species': recording['sp'],\n",
    "            'name': recording['en'],\n",
    "            'download_url': 'https://www.xeno-canto.org/{}/download'.format(recording['id']),\n",
    "            'file_name': recording['file-name'],\n",
    "            'duration': int(mins_secs[0]) * 60 + int(mins_secs[1]),\n",
    "            'quality': recording['q'],\n",
    "            'other_species_in_recording': ', '.join(recording['also'])\n",
    "        }, ignore_index=True)\n",
    "    return data_frame"
   ]
  },
  {
   "cell_type": "code",
   "execution_count": 0,
   "metadata": {
    "colab": {},
    "colab_type": "code",
    "id": "fsKxAv8-PS25"
   },
   "outputs": [],
   "source": [
    "birds = pandas.DataFrame(columns=['file_id', 'genus', 'species', 'name', 'download_url', 'file_name', 'duration', 'other_species_in_recording', 'quality'])"
   ]
  },
  {
   "cell_type": "code",
   "execution_count": 0,
   "metadata": {
    "colab": {
     "base_uri": "https://localhost:8080/",
     "height": 49
    },
    "colab_type": "code",
    "executionInfo": {
     "elapsed": 392,
     "status": "ok",
     "timestamp": 1580186106052,
     "user": {
      "displayName": "Vignesh Nswamy",
      "photoUrl": "",
      "userId": "06700071264879209175"
     },
     "user_tz": 360
    },
    "id": "gI_9I4z_Ykd3",
    "outputId": "3453471b-a6ab-4704-c68e-c49b577212a6"
   },
   "outputs": [
    {
     "data": {
      "text/html": [
       "<div>\n",
       "<style scoped>\n",
       "    .dataframe tbody tr th:only-of-type {\n",
       "        vertical-align: middle;\n",
       "    }\n",
       "\n",
       "    .dataframe tbody tr th {\n",
       "        vertical-align: top;\n",
       "    }\n",
       "\n",
       "    .dataframe thead th {\n",
       "        text-align: right;\n",
       "    }\n",
       "</style>\n",
       "<table border=\"1\" class=\"dataframe\">\n",
       "  <thead>\n",
       "    <tr style=\"text-align: right;\">\n",
       "      <th></th>\n",
       "      <th>file_id</th>\n",
       "      <th>genus</th>\n",
       "      <th>species</th>\n",
       "      <th>name</th>\n",
       "      <th>download_url</th>\n",
       "      <th>file_name</th>\n",
       "      <th>duration</th>\n",
       "      <th>other_species_in_recording</th>\n",
       "      <th>quality</th>\n",
       "    </tr>\n",
       "  </thead>\n",
       "  <tbody>\n",
       "  </tbody>\n",
       "</table>\n",
       "</div>"
      ],
      "text/plain": [
       "Empty DataFrame\n",
       "Columns: [file_id, genus, species, name, download_url, file_name, duration, other_species_in_recording, quality]\n",
       "Index: []"
      ]
     },
     "execution_count": 5,
     "metadata": {
      "tags": []
     },
     "output_type": "execute_result"
    }
   ],
   "source": [
    "birds.head()"
   ]
  },
  {
   "cell_type": "code",
   "execution_count": 0,
   "metadata": {
    "colab": {
     "base_uri": "https://localhost:8080/",
     "height": 816
    },
    "colab_type": "code",
    "executionInfo": {
     "elapsed": 294768,
     "status": "ok",
     "timestamp": 1580186403320,
     "user": {
      "displayName": "Vignesh Nswamy",
      "photoUrl": "",
      "userId": "06700071264879209175"
     },
     "user_tz": 360
    },
    "id": "ThctSAmoPS3E",
    "outputId": "33db82f3-b9d1-4a7f-fd32-0658dec42546"
   },
   "outputs": [
    {
     "name": "stdout",
     "output_type": "stream",
     "text": [
      "Fetched 2 of 23 pages of quality A songs\n",
      "Fetched 3 of 23 pages of quality A songs\n",
      "Fetched 4 of 23 pages of quality A songs\n",
      "Fetched 5 of 23 pages of quality A songs\n",
      "Fetched 6 of 23 pages of quality A songs\n",
      "Fetched 7 of 23 pages of quality A songs\n",
      "Fetched 8 of 23 pages of quality A songs\n",
      "Fetched 9 of 23 pages of quality A songs\n",
      "Fetched 10 of 23 pages of quality A songs\n",
      "Fetched 11 of 23 pages of quality A songs\n",
      "Fetched 12 of 23 pages of quality A songs\n",
      "Fetched 13 of 23 pages of quality A songs\n",
      "Fetched 14 of 23 pages of quality A songs\n",
      "Fetched 15 of 23 pages of quality A songs\n",
      "Fetched 16 of 23 pages of quality A songs\n",
      "Fetched 17 of 23 pages of quality A songs\n",
      "Fetched 18 of 23 pages of quality A songs\n",
      "Fetched 19 of 23 pages of quality A songs\n",
      "Fetched 20 of 23 pages of quality A songs\n",
      "Fetched 21 of 23 pages of quality A songs\n",
      "Fetched 22 of 23 pages of quality A songs\n",
      "Fetched 23 of 23 pages of quality A songs\n",
      "Fetched 2 of 26 pages of quality B songs\n",
      "Fetched 3 of 26 pages of quality B songs\n",
      "Fetched 4 of 26 pages of quality B songs\n",
      "Fetched 5 of 26 pages of quality B songs\n",
      "Fetched 6 of 26 pages of quality B songs\n",
      "Fetched 7 of 26 pages of quality B songs\n",
      "Fetched 8 of 26 pages of quality B songs\n",
      "Fetched 9 of 26 pages of quality B songs\n",
      "Fetched 10 of 26 pages of quality B songs\n",
      "Fetched 11 of 26 pages of quality B songs\n",
      "Fetched 12 of 26 pages of quality B songs\n",
      "Fetched 13 of 26 pages of quality B songs\n",
      "Fetched 14 of 26 pages of quality B songs\n",
      "Fetched 15 of 26 pages of quality B songs\n",
      "Fetched 16 of 26 pages of quality B songs\n",
      "Fetched 17 of 26 pages of quality B songs\n",
      "Fetched 18 of 26 pages of quality B songs\n",
      "Fetched 19 of 26 pages of quality B songs\n",
      "Fetched 20 of 26 pages of quality B songs\n",
      "Fetched 21 of 26 pages of quality B songs\n",
      "Fetched 22 of 26 pages of quality B songs\n",
      "Fetched 23 of 26 pages of quality B songs\n",
      "Fetched 24 of 26 pages of quality B songs\n",
      "Fetched 25 of 26 pages of quality B songs\n",
      "Fetched 26 of 26 pages of quality B songs\n"
     ]
    }
   ],
   "source": [
    "for q in ['A', 'B']:\n",
    "    initial_data = fetch_data(quality=q)\n",
    "    num_pages = initial_data['numPages']\n",
    "    num_recordings = initial_data['numRecordings']\n",
    "    birds = append_to_frame(birds, initial_data)\n",
    "    for i in range(2, num_pages+1, 1):\n",
    "        # clear_output(wait=True)\n",
    "        birds = append_to_frame(birds, fetch_data(page=i, quality=q))\n",
    "        print('Fetched {} of {} pages of quality {} songs'.format(i, num_pages, q))"
   ]
  },
  {
   "cell_type": "code",
   "execution_count": 0,
   "metadata": {
    "colab": {},
    "colab_type": "code",
    "id": "Zf3igUS6ZU8E"
   },
   "outputs": [],
   "source": [
    "birds.to_csv(parent_path+'birds_dataset_unfiltered.csv')"
   ]
  },
  {
   "cell_type": "code",
   "execution_count": 0,
   "metadata": {
    "colab": {
     "base_uri": "https://localhost:8080/",
     "height": 51
    },
    "colab_type": "code",
    "executionInfo": {
     "elapsed": 468,
     "status": "ok",
     "timestamp": 1580186531417,
     "user": {
      "displayName": "Vignesh Nswamy",
      "photoUrl": "",
      "userId": "06700071264879209175"
     },
     "user_tz": 360
    },
    "id": "4gHYIxI6PS3Q",
    "outputId": "99f22c2f-5861-40dc-dd2e-1d08452bb048"
   },
   "outputs": [
    {
     "name": "stderr",
     "output_type": "stream",
     "text": [
      "/usr/local/lib/python3.6/dist-packages/ipykernel_launcher.py:1: UserWarning: Boolean Series key will be reindexed to match DataFrame index.\n",
      "  \"\"\"Entry point for launching an IPython kernel.\n"
     ]
    }
   ],
   "source": [
    "birds = birds[birds['duration'] >= 20][birds['name'] != 'Identity unknown']\n",
    "birds = birds[birds.groupby('genus').genus.transform(len) > 25].reset_index()"
   ]
  },
  {
   "cell_type": "code",
   "execution_count": 0,
   "metadata": {
    "colab": {},
    "colab_type": "code",
    "id": "DZwOJzLBPS3i"
   },
   "outputs": [],
   "source": [
    "birds.to_csv(parent_path+'birds_dataset.csv')"
   ]
  }
 ],
 "metadata": {
  "accelerator": "GPU",
  "colab": {
   "collapsed_sections": [],
   "name": "Copy of 01. download_bird_song_meta.ipynb",
   "provenance": [
    {
     "file_id": "1LG2XuCxAqQN9Sj886DhWSuaVdSn_s8fF",
     "timestamp": 1580509234744
    }
   ]
  },
  "kernelspec": {
   "display_name": "Python 3",
   "language": "python",
   "name": "python3"
  },
  "language_info": {
   "codemirror_mode": {
    "name": "ipython",
    "version": 3
   },
   "file_extension": ".py",
   "mimetype": "text/x-python",
   "name": "python",
   "nbconvert_exporter": "python",
   "pygments_lexer": "ipython3",
   "version": "3.7.6"
  }
 },
 "nbformat": 4,
 "nbformat_minor": 1
}
