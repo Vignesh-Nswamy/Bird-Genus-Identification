{
 "cells": [
  {
   "cell_type": "code",
   "execution_count": 1,
   "metadata": {},
   "outputs": [],
   "source": [
    "import numpy\n",
    "import os\n",
    "import librosa\n",
    "import pandas\n",
    "import matplotlib.pyplot as plt\n",
    "from sklearn.utils import shuffle\n",
    "import traceback\n",
    "from IPython.display import clear_output\n",
    "import json\n",
    "from sklearn.model_selection import train_test_split\n",
    "import gc"
   ]
  },
  {
   "cell_type": "code",
   "execution_count": 2,
   "metadata": {},
   "outputs": [],
   "source": [
    "genus_vs_file_path = pandas.read_csv('genus_vs_file_path.csv', index_col=0)"
   ]
  },
  {
   "cell_type": "code",
   "execution_count": 4,
   "metadata": {},
   "outputs": [
    {
     "data": {
      "text/plain": [
       "(6208, 4)"
      ]
     },
     "execution_count": 4,
     "metadata": {},
     "output_type": "execute_result"
    }
   ],
   "source": [
    "genus_vs_file_path.shape"
   ]
  },
  {
   "cell_type": "code",
   "execution_count": 5,
   "metadata": {},
   "outputs": [
    {
     "name": "stdout",
     "output_type": "stream",
     "text": [
      "Number of unique Genus: 141\n"
     ]
    }
   ],
   "source": [
    "genus_list = sorted(genus_vs_file_path['genus'].unique().tolist())\n",
    "n_classes = len(genus_list)\n",
    "id_to_genus = {v: k for v, k in enumerate(genus_list)}\n",
    "genus_to_id = {k: v for v, k in enumerate(genus_list)}\n",
    "print('Number of unique Genus: {}'.format(n_classes))"
   ]
  },
  {
   "cell_type": "code",
   "execution_count": 6,
   "metadata": {},
   "outputs": [],
   "source": [
    "data_X = genus_vs_file_path.file_path\n",
    "data_y = genus_vs_file_path.genus\n",
    "X_train, X_test, y_train, y_test = train_test_split(data_X, data_y, stratify=data_y, test_size=0.2, random_state=100)\n",
    "assert len(y_train.unique()) == n_classes"
   ]
  },
  {
   "cell_type": "code",
   "execution_count": 5,
   "metadata": {},
   "outputs": [],
   "source": [
    "def transform_dataset(x):\n",
    "    x_raw = librosa.core.db_to_power(x, ref=1.0)\n",
    "    x_log = numpy.log(x_raw)\n",
    "    return x_log"
   ]
  },
  {
   "cell_type": "code",
   "execution_count": 9,
   "metadata": {},
   "outputs": [],
   "source": [
    "def save_npz(X_data, y_data, file_name, n_classes):\n",
    "    X_accumulator = numpy.empty((0, 862, 128))\n",
    "    y_accumulator = numpy.empty((0, n_classes))\n",
    "    progress_counter = 0\n",
    "    error_file_list = []\n",
    "    for index, file_path in X_data.items():\n",
    "        clear_output(wait=True)\n",
    "        y, sr = librosa.load(file_path)\n",
    "        spect = librosa.feature.melspectrogram(y=y, sr=sr,n_fft=2048, hop_length=512)\n",
    "        spect = librosa.power_to_db(spect, ref=numpy.max)\n",
    "        spect = spect.T\n",
    "        if spect.shape[0] == 862:\n",
    "            X_accumulator = numpy.append(X_accumulator, [spect], axis=0)\n",
    "            row_y = numpy.zeros(n_classes)\n",
    "            row_y[genus_to_id[y_data[index]]] = 1\n",
    "            y_accumulator = numpy.append(y_accumulator, [row_y], axis=0)\n",
    "            progress_counter += 1\n",
    "            print('Processed {} of {} files'.format(progress_counter, X_data.shape[0]))\n",
    "        else:\n",
    "            error_file_list.append('Path: {}, Label: {}'.format(file_path, y_data[index]))\n",
    "    numpy.savez(file_name, transform_dataset(X_accumulator), y_accumulator)\n",
    "    return error_file_list"
   ]
  },
  {
   "cell_type": "code",
   "execution_count": 11,
   "metadata": {},
   "outputs": [
    {
     "name": "stdout",
     "output_type": "stream",
     "text": [
      "Processed 6207 of 6208 files\n"
     ]
    },
    {
     "data": {
      "text/plain": [
       "18867"
      ]
     },
     "execution_count": 11,
     "metadata": {},
     "output_type": "execute_result"
    }
   ],
   "source": [
    "error_file_list = save_npz(X_train, y_train, 'train_data', n_classes)\n",
    "# print(error_file_list)\n",
    "gc.collect()"
   ]
  },
  {
   "cell_type": "code",
   "execution_count": 12,
   "metadata": {},
   "outputs": [
    {
     "name": "stdout",
     "output_type": "stream",
     "text": [
      "Processed 1242 of 1242 files\n"
     ]
    },
    {
     "data": {
      "text/plain": [
       "512"
      ]
     },
     "execution_count": 12,
     "metadata": {},
     "output_type": "execute_result"
    }
   ],
   "source": [
    "save_npz(X_test, y_test, 'test_data', n_classes)\n",
    "# print(error_file_list)\n",
    "gc.collect"
   ]
  }
 ],
 "metadata": {
  "kernelspec": {
   "display_name": "Python 3",
   "language": "python",
   "name": "python3"
  },
  "language_info": {
   "codemirror_mode": {
    "name": "ipython",
    "version": 3
   },
   "file_extension": ".py",
   "mimetype": "text/x-python",
   "name": "python",
   "nbconvert_exporter": "python",
   "pygments_lexer": "ipython3",
   "version": "3.7.6"
  }
 },
 "nbformat": 4,
 "nbformat_minor": 2
}
