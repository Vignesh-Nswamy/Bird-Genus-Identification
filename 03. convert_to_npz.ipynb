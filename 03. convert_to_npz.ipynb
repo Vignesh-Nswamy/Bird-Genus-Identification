{
 "cells": [
  {
   "cell_type": "code",
   "execution_count": null,
   "metadata": {},
   "outputs": [],
   "source": [
    "import librosa\n",
    "import numpy\n",
    "import os\n",
    "import pandas\n",
    "import matplotlib.pyplot as plt\n",
    "from sklearn.utils import shuffle\n",
    "import traceback\n",
    "from IPython.display import clear_output\n",
    "import json\n",
    "import gc"
   ]
  },
  {
   "cell_type": "code",
   "execution_count": null,
   "metadata": {},
   "outputs": [],
   "source": [
    "genus_vs_file_path = pandas.read_csv('genus_vs_file_path.csv', index_col=0)"
   ]
  },
  {
   "cell_type": "code",
   "execution_count": null,
   "metadata": {},
   "outputs": [],
   "source": [
    "genus_vs_file_path.head()"
   ]
  },
  {
   "cell_type": "code",
   "execution_count": null,
   "metadata": {},
   "outputs": [],
   "source": [
    "genus_vs_file_path.shape"
   ]
  },
  {
   "cell_type": "code",
   "execution_count": null,
   "metadata": {},
   "outputs": [],
   "source": [
    "genus_vs_file_path = genus_vs_file_path[genus_vs_file_path.groupby('genus').genus.transform(len) > 5].reset_index()"
   ]
  },
  {
   "cell_type": "code",
   "execution_count": null,
   "metadata": {},
   "outputs": [],
   "source": [
    "genus_vs_file_path.shape"
   ]
  },
  {
   "cell_type": "code",
   "execution_count": null,
   "metadata": {},
   "outputs": [],
   "source": [
    "genus_list = sorted(genus_vs_file_path['genus'].unique().tolist())\n",
    "n_classes = len(genus_list)\n",
    "id_to_genus = {v: k for v, k in enumerate(genus_list)}\n",
    "genus_to_id = {k: v for v, k in enumerate(genus_list)}\n",
    "print('Number of unique Genus: {}'.format(n_classes))"
   ]
  },
  {
   "cell_type": "code",
   "execution_count": null,
   "metadata": {},
   "outputs": [],
   "source": [
    "with open('genus_to_id.json', 'w') as f:\n",
    "    json.dump(genus_to_id, f)"
   ]
  },
  {
   "cell_type": "code",
   "execution_count": null,
   "metadata": {},
   "outputs": [],
   "source": [
    "with open('id_to_genus.json', 'w') as f:\n",
    "    json.dump(id_to_genus, f)"
   ]
  },
  {
   "cell_type": "code",
   "execution_count": null,
   "metadata": {},
   "outputs": [],
   "source": [
    "genus_vs_file_path = genus_vs_file_path.replace({'genus': genus_to_id})"
   ]
  },
  {
   "cell_type": "code",
   "execution_count": null,
   "metadata": {},
   "outputs": [],
   "source": [
    "from sklearn.model_selection import train_test_split\n",
    "data_X = genus_vs_file_path.file_path\n",
    "data_y = genus_vs_file_path.genus\n",
    "X_train, X_test, y_train, y_test = train_test_split(data_X, data_y, test_size=0.53, random_state=42)\n",
    "X_val, X_test, y_val, y_test = train_test_split(X_test, y_test, test_size=0.57, random_state=42)\n",
    "assert len(y_train.unique()) == n_classes"
   ]
  },
  {
   "cell_type": "code",
   "execution_count": null,
   "metadata": {},
   "outputs": [],
   "source": [
    "# X_train_spect = numpy.empty((0, 862, 128))\n",
    "# X_test_spect = numpy.empty((0, 862, 128))\n",
    "# X_val_spect = numpy.empty((0, 862, 128))\n",
    "# y_train_spect = numpy.empty((0, 278))\n",
    "# y_test_spect = numpy.empty((0, 278))\n",
    "# y_val_spect = numpy.empty((0, 278))"
   ]
  },
  {
   "cell_type": "code",
   "execution_count": null,
   "metadata": {},
   "outputs": [],
   "source": [
    "def save_npz(X_data, y_data, file_name):\n",
    "    X_accumulator = numpy.empty((0, 862, 128))\n",
    "    y_accumulator = numpy.empty((0, 278))\n",
    "    progress_counter = 0\n",
    "    error_file_list = []\n",
    "    for index, file_path in X_data.items():\n",
    "        clear_output(wait=True)\n",
    "        y, sr = librosa.load(file_path)\n",
    "        spect = librosa.feature.melspectrogram(y=y, sr=sr,n_fft=2048, hop_length=512)\n",
    "        spect = librosa.power_to_db(spect, ref=numpy.max)\n",
    "        spect = spect.T\n",
    "        if spect.shape[0] == 862:\n",
    "            X_accumulator = numpy.append(X_accumulator, [spect], axis=0)\n",
    "            row_y = numpy.zeros(n_classes)\n",
    "            row_y[y_data[index]] = 1\n",
    "            y_accumulator = numpy.append(y_accumulator, [row_y], axis=0)\n",
    "            progress_counter += 1\n",
    "            print('Processed {} of {} files'.format(progress_counter, X_data.shape[0]))\n",
    "        else:\n",
    "            error_file_list.append('Path: {}, Label: {}'.format(file_path, id_to_genus[y_data[index]]))\n",
    "    numpy.savez(file_name, X_accumulator, y_accumulator)\n",
    "    return error_file_list"
   ]
  },
  {
   "cell_type": "code",
   "execution_count": null,
   "metadata": {},
   "outputs": [],
   "source": [
    "error_file_list = save_npz(X_train, y_train, 'train_data')\n",
    "print(error_file_list)\n",
    "gc.collect()"
   ]
  },
  {
   "cell_type": "code",
   "execution_count": null,
   "metadata": {},
   "outputs": [],
   "source": [
    "error_file_list = save_npz(X_val, y_val, 'validation_data')\n",
    "gc.collect()"
   ]
  },
  {
   "cell_type": "code",
   "execution_count": null,
   "metadata": {},
   "outputs": [],
   "source": [
    "save_npz(X_test, y_test, 'test_data')\n",
    "gc.collect()"
   ]
  }
 ],
 "metadata": {
  "kernelspec": {
   "display_name": "Python 3",
   "language": "python",
   "name": "python3"
  },
  "language_info": {
   "codemirror_mode": {
    "name": "ipython",
    "version": 3
   },
   "file_extension": ".py",
   "mimetype": "text/x-python",
   "name": "python",
   "nbconvert_exporter": "python",
   "pygments_lexer": "ipython3",
   "version": "3.7.6"
  }
 },
 "nbformat": 4,
 "nbformat_minor": 2
}
