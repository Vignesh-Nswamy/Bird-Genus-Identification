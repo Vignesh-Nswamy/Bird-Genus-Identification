{
 "cells": [
  {
   "cell_type": "code",
   "execution_count": 1,
   "metadata": {},
   "outputs": [],
   "source": [
    "import os\n",
    "from pydub import AudioSegment\n",
    "import pandas\n",
    "import numpy\n",
    "import requests\n",
    "from IPython.display import clear_output"
   ]
  },
  {
   "cell_type": "code",
   "execution_count": 2,
   "metadata": {},
   "outputs": [],
   "source": [
    "birds = pandas.read_csv('birds_dataset.csv', index_col=0)"
   ]
  },
  {
   "cell_type": "code",
   "execution_count": 3,
   "metadata": {},
   "outputs": [
    {
     "data": {
      "text/html": [
       "<div>\n",
       "<style scoped>\n",
       "    .dataframe tbody tr th:only-of-type {\n",
       "        vertical-align: middle;\n",
       "    }\n",
       "\n",
       "    .dataframe tbody tr th {\n",
       "        vertical-align: top;\n",
       "    }\n",
       "\n",
       "    .dataframe thead th {\n",
       "        text-align: right;\n",
       "    }\n",
       "</style>\n",
       "<table border=\"1\" class=\"dataframe\">\n",
       "  <thead>\n",
       "    <tr style=\"text-align: right;\">\n",
       "      <th></th>\n",
       "      <th>index</th>\n",
       "      <th>file_id</th>\n",
       "      <th>genus</th>\n",
       "      <th>species</th>\n",
       "      <th>name</th>\n",
       "      <th>download_url</th>\n",
       "      <th>file_name</th>\n",
       "      <th>duration</th>\n",
       "      <th>other_species_in_recording</th>\n",
       "    </tr>\n",
       "  </thead>\n",
       "  <tbody>\n",
       "    <tr>\n",
       "      <th>0</th>\n",
       "      <td>8</td>\n",
       "      <td>452850</td>\n",
       "      <td>Crypturellus</td>\n",
       "      <td>cinereus</td>\n",
       "      <td>Cinereous Tinamou</td>\n",
       "      <td>https://www.xeno-canto.org/452850/download</td>\n",
       "      <td>XC452850-Cinereous Tinamou, song, 190117-023.mp3</td>\n",
       "      <td>53</td>\n",
       "      <td>Poecilotriccus latirostris, Pheugopedius genib...</td>\n",
       "    </tr>\n",
       "    <tr>\n",
       "      <th>1</th>\n",
       "      <td>9</td>\n",
       "      <td>446610</td>\n",
       "      <td>Crypturellus</td>\n",
       "      <td>cinereus</td>\n",
       "      <td>Cinereous Tinamou</td>\n",
       "      <td>https://www.xeno-canto.org/446610/download</td>\n",
       "      <td>XC446610-Crypturellus cinereus - DaRec_2018052...</td>\n",
       "      <td>32</td>\n",
       "      <td>NaN</td>\n",
       "    </tr>\n",
       "    <tr>\n",
       "      <th>2</th>\n",
       "      <td>10</td>\n",
       "      <td>424163</td>\n",
       "      <td>Crypturellus</td>\n",
       "      <td>cinereus</td>\n",
       "      <td>Cinereous Tinamou</td>\n",
       "      <td>https://www.xeno-canto.org/424163/download</td>\n",
       "      <td>XC424163-Crypturellus cinereus. RO. ME- Felipe...</td>\n",
       "      <td>36</td>\n",
       "      <td>Sclerurus obscurior, Amazona farinosa</td>\n",
       "    </tr>\n",
       "    <tr>\n",
       "      <th>3</th>\n",
       "      <td>11</td>\n",
       "      <td>333322</td>\n",
       "      <td>Crypturellus</td>\n",
       "      <td>cinereus</td>\n",
       "      <td>Cinereous Tinamou</td>\n",
       "      <td>https://www.xeno-canto.org/333322/download</td>\n",
       "      <td>XC333322-CRYCIN13.mp3</td>\n",
       "      <td>51</td>\n",
       "      <td>Thamnophilus aethiops, Hypocnemis ochrogyna, M...</td>\n",
       "    </tr>\n",
       "    <tr>\n",
       "      <th>4</th>\n",
       "      <td>12</td>\n",
       "      <td>329091</td>\n",
       "      <td>Crypturellus</td>\n",
       "      <td>cinereus</td>\n",
       "      <td>Cinereous Tinamou</td>\n",
       "      <td>https://www.xeno-canto.org/329091/download</td>\n",
       "      <td>XC329091-Crypturellus cinereus(song)XapuriAC23...</td>\n",
       "      <td>37</td>\n",
       "      <td>NaN</td>\n",
       "    </tr>\n",
       "  </tbody>\n",
       "</table>\n",
       "</div>"
      ],
      "text/plain": [
       "   index  file_id         genus   species               name  \\\n",
       "0      8   452850  Crypturellus  cinereus  Cinereous Tinamou   \n",
       "1      9   446610  Crypturellus  cinereus  Cinereous Tinamou   \n",
       "2     10   424163  Crypturellus  cinereus  Cinereous Tinamou   \n",
       "3     11   333322  Crypturellus  cinereus  Cinereous Tinamou   \n",
       "4     12   329091  Crypturellus  cinereus  Cinereous Tinamou   \n",
       "\n",
       "                                 download_url  \\\n",
       "0  https://www.xeno-canto.org/452850/download   \n",
       "1  https://www.xeno-canto.org/446610/download   \n",
       "2  https://www.xeno-canto.org/424163/download   \n",
       "3  https://www.xeno-canto.org/333322/download   \n",
       "4  https://www.xeno-canto.org/329091/download   \n",
       "\n",
       "                                           file_name  duration  \\\n",
       "0   XC452850-Cinereous Tinamou, song, 190117-023.mp3        53   \n",
       "1  XC446610-Crypturellus cinereus - DaRec_2018052...        32   \n",
       "2  XC424163-Crypturellus cinereus. RO. ME- Felipe...        36   \n",
       "3                              XC333322-CRYCIN13.mp3        51   \n",
       "4  XC329091-Crypturellus cinereus(song)XapuriAC23...        37   \n",
       "\n",
       "                          other_species_in_recording  \n",
       "0  Poecilotriccus latirostris, Pheugopedius genib...  \n",
       "1                                                NaN  \n",
       "2              Sclerurus obscurior, Amazona farinosa  \n",
       "3  Thamnophilus aethiops, Hypocnemis ochrogyna, M...  \n",
       "4                                                NaN  "
      ]
     },
     "execution_count": 3,
     "metadata": {},
     "output_type": "execute_result"
    }
   ],
   "source": [
    "birds.head()"
   ]
  },
  {
   "cell_type": "code",
   "execution_count": 4,
   "metadata": {},
   "outputs": [],
   "source": [
    "genus_vs_file_path = pandas.DataFrame(columns=['file_id', 'genus', 'file_path'])"
   ]
  },
  {
   "cell_type": "code",
   "execution_count": 5,
   "metadata": {},
   "outputs": [],
   "source": [
    "def convert(src_file_name, dst_file_name, dest_folder='audio\\\\'):\n",
    "    dst_file_name = dst_file_name + '.wav'\n",
    "    sound = AudioSegment.from_mp3(src_file_name)[:20000]\n",
    "    sound.export(dest_folder + dst_file_name, format=\"wav\")\n",
    "    print('converted ' + dst_file_name)\n",
    "    return dest_folder + dst_file_name"
   ]
  },
  {
   "cell_type": "code",
   "execution_count": 6,
   "metadata": {},
   "outputs": [
    {
     "name": "stdout",
     "output_type": "stream",
     "text": [
      "Download and conversion in finished for 6208 of 6210 files\n"
     ]
    }
   ],
   "source": [
    "error_list = []\n",
    "for index, row in birds.iterrows():\n",
    "    try:\n",
    "        clear_output(wait=True)\n",
    "        r = requests.get(row.download_url, allow_redirects=True)\n",
    "        with open(str(row.file_id)+'.mp3','wb') as op:\n",
    "          op.write(r.content)\n",
    "        dst_file_path = convert(str(row.file_id)+'.mp3', str(row.file_id))\n",
    "        os.remove(str(row.file_id)+'.mp3')\n",
    "        genus_vs_file_path = genus_vs_file_path.append({\n",
    "                'file_id': row['file_id'],\n",
    "                'genus': row['genus'],\n",
    "                'file_path': dst_file_path\n",
    "            }, ignore_index=True)\n",
    "        print('Download and conversion in finished for {} of {} files'.format(index+1, birds.shape[0]))\n",
    "    except Exception as e:\n",
    "        error_list.append(row.download_url)\n",
    "        print(e)"
   ]
  },
  {
   "cell_type": "code",
   "execution_count": 7,
   "metadata": {},
   "outputs": [],
   "source": [
    "genus_vs_file_path.to_csv('genus_vs_file_path.csv')"
   ]
  }
 ],
 "metadata": {
  "kernelspec": {
   "display_name": "Python 3",
   "language": "python",
   "name": "python3"
  },
  "language_info": {
   "codemirror_mode": {
    "name": "ipython",
    "version": 3
   },
   "file_extension": ".py",
   "mimetype": "text/x-python",
   "name": "python",
   "nbconvert_exporter": "python",
   "pygments_lexer": "ipython3",
   "version": "3.7.6"
  }
 },
 "nbformat": 4,
 "nbformat_minor": 2
}
