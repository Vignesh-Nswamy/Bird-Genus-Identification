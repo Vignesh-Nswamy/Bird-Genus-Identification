{
 "cells": [
  {
   "cell_type": "code",
   "execution_count": null,
   "metadata": {},
   "outputs": [],
   "source": [
    "import os\n",
    "from pydub import AudioSegment\n",
    "import pandas\n",
    "import numpy\n",
    "import requests\n",
    "from IPython.display import clear_output"
   ]
  },
  {
   "cell_type": "code",
   "execution_count": null,
   "metadata": {},
   "outputs": [],
   "source": [
    "birds = pandas.read_csv('birds_dataset.csv', index_col=0)\n",
    "size_before = birds.shape[0]"
   ]
  },
  {
   "cell_type": "code",
   "execution_count": null,
   "metadata": {},
   "outputs": [],
   "source": [
    "birds = birds[birds['duration'] >= 20][birds['name'] != 'Identity unknown']\n",
    "size_after = birds.shape[0]"
   ]
  },
  {
   "cell_type": "code",
   "execution_count": null,
   "metadata": {},
   "outputs": [],
   "source": [
    "print('Size of dataset before: {}'.format(size_before))\n",
    "print('Size of dataset after: {}'.format(size_after))"
   ]
  },
  {
   "cell_type": "code",
   "execution_count": null,
   "metadata": {},
   "outputs": [],
   "source": [
    "birds.head()"
   ]
  },
  {
   "cell_type": "code",
   "execution_count": null,
   "metadata": {},
   "outputs": [],
   "source": [
    "genus_vs_file_path = pandas.DataFrame(columns=['file_id', 'genus', 'file_path'])"
   ]
  },
  {
   "cell_type": "code",
   "execution_count": null,
   "metadata": {},
   "outputs": [],
   "source": [
    "def convert(src_file_name, dst_file_name, dest_folder='audio\\\\'):\n",
    "    dst_file_name = dst_file_name + '.wav'\n",
    "    sound = AudioSegment.from_mp3(src_file_name)[:20000]\n",
    "    sound.export(dest_folder + dst_file_name, format=\"wav\")\n",
    "    print('converted ' + dst_file_name)\n",
    "    return dest_folder + dst_file_name"
   ]
  },
  {
   "cell_type": "code",
   "execution_count": null,
   "metadata": {},
   "outputs": [],
   "source": [
    "error_list = []\n",
    "for index, row in birds.iterrows():\n",
    "    try:\n",
    "        clear_output(wait=True)\n",
    "        r = requests.get(row.download_url, allow_redirects=True)\n",
    "        with open(str(row.file_id)+'.mp3','wb') as op:\n",
    "          op.write(r.content)\n",
    "        dst_file_path = convert(str(row.file_id)+'.mp3', str(row.file_id))\n",
    "        os.remove(str(row.file_id)+'.mp3')\n",
    "        genus_vs_file_path = genus_vs_file_path.append({\n",
    "                'file_id': row['file_id'],\n",
    "                'genus': row['genus'],\n",
    "                'file_path': dst_file_path\n",
    "            }, ignore_index=True)\n",
    "        print('Download and conversion in finished for {} of {} files'.format(index+1, size_after))\n",
    "    except Exception as e:\n",
    "        error_list.append(row.download_url)\n",
    "        print(e)"
   ]
  },
  {
   "cell_type": "code",
   "execution_count": null,
   "metadata": {},
   "outputs": [],
   "source": [
    "genus_vs_file_path.to_csv('genus_vs_file_path.csv')"
   ]
  }
 ],
 "metadata": {
  "kernelspec": {
   "display_name": "Python 3",
   "language": "python",
   "name": "python3"
  },
  "language_info": {
   "codemirror_mode": {
    "name": "ipython",
    "version": 3
   },
   "file_extension": ".py",
   "mimetype": "text/x-python",
   "name": "python",
   "nbconvert_exporter": "python",
   "pygments_lexer": "ipython3",
   "version": "3.7.6"
  }
 },
 "nbformat": 4,
 "nbformat_minor": 2
}
