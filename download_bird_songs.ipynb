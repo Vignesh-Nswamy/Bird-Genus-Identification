{
 "cells": [
  {
   "cell_type": "code",
   "execution_count": 1,
   "metadata": {
    "colab": {
     "base_uri": "https://localhost:8080/",
     "height": 85
    },
    "colab_type": "code",
    "executionInfo": {
     "elapsed": 6700,
     "status": "ok",
     "timestamp": 1580348584250,
     "user": {
      "displayName": "Vignesh Nswamy",
      "photoUrl": "",
      "userId": "06700071264879209175"
     },
     "user_tz": 360
    },
    "id": "qTRQeKuOdfef",
    "outputId": "55c5ac07-deca-4f71-f1c5-cd8fdbd500de"
   },
   "outputs": [],
   "source": [
    "import os\n",
    "from pydub import AudioSegment\n",
    "import pandas\n",
    "import numpy\n",
    "import requests\n",
    "from IPython.display import clear_output\n",
    "from sklearn.model_selection import train_test_split\n",
    "import librosa\n",
    "import librosa.display\n",
    "import matplotlib.pyplot as plt\n",
    "from tqdm import tqdm\n",
    "import gc"
   ]
  },
  {
   "cell_type": "code",
   "execution_count": 2,
   "metadata": {
    "colab": {},
    "colab_type": "code",
    "id": "_1-_ik79O_dI"
   },
   "outputs": [],
   "source": [
    "parent_path = ''\n",
    "data_path = os.path.join(parent_path, 'data')\n",
    "npz_path = os.path.join(parent_path, 'audio_npz')"
   ]
  },
  {
   "cell_type": "code",
   "execution_count": 3,
   "metadata": {
    "colab": {},
    "colab_type": "code",
    "id": "bJKBzZjtdfe2"
   },
   "outputs": [],
   "source": [
    "birds = pandas.read_csv(os.path.join(data_path, 'birds_dataset.csv'), index_col=0)"
   ]
  },
  {
   "cell_type": "code",
   "execution_count": 4,
   "metadata": {
    "colab": {
     "base_uri": "https://localhost:8080/",
     "height": 204
    },
    "colab_type": "code",
    "executionInfo": {
     "elapsed": 669,
     "status": "ok",
     "timestamp": 1580348586083,
     "user": {
      "displayName": "Vignesh Nswamy",
      "photoUrl": "",
      "userId": "06700071264879209175"
     },
     "user_tz": 360
    },
    "id": "G0WlR2--dffC",
    "outputId": "f833c7bd-ddd6-47c7-8fe4-1292b52327db"
   },
   "outputs": [
    {
     "data": {
      "text/html": [
       "<div>\n",
       "<style scoped>\n",
       "    .dataframe tbody tr th:only-of-type {\n",
       "        vertical-align: middle;\n",
       "    }\n",
       "\n",
       "    .dataframe tbody tr th {\n",
       "        vertical-align: top;\n",
       "    }\n",
       "\n",
       "    .dataframe thead th {\n",
       "        text-align: right;\n",
       "    }\n",
       "</style>\n",
       "<table border=\"1\" class=\"dataframe\">\n",
       "  <thead>\n",
       "    <tr style=\"text-align: right;\">\n",
       "      <th></th>\n",
       "      <th>index</th>\n",
       "      <th>file_id</th>\n",
       "      <th>genus</th>\n",
       "      <th>species</th>\n",
       "      <th>name</th>\n",
       "      <th>download_url</th>\n",
       "      <th>file_name</th>\n",
       "      <th>duration</th>\n",
       "      <th>other_species_in_recording</th>\n",
       "      <th>quality</th>\n",
       "    </tr>\n",
       "  </thead>\n",
       "  <tbody>\n",
       "    <tr>\n",
       "      <td>0</td>\n",
       "      <td>8</td>\n",
       "      <td>452850</td>\n",
       "      <td>Crypturellus</td>\n",
       "      <td>cinereus</td>\n",
       "      <td>Cinereous Tinamou</td>\n",
       "      <td>https://www.xeno-canto.org/452850/download</td>\n",
       "      <td>XC452850-Cinereous Tinamou, song, 190117-023.mp3</td>\n",
       "      <td>53</td>\n",
       "      <td>Poecilotriccus latirostris, Pheugopedius genib...</td>\n",
       "      <td>A</td>\n",
       "    </tr>\n",
       "    <tr>\n",
       "      <td>1</td>\n",
       "      <td>9</td>\n",
       "      <td>446610</td>\n",
       "      <td>Crypturellus</td>\n",
       "      <td>cinereus</td>\n",
       "      <td>Cinereous Tinamou</td>\n",
       "      <td>https://www.xeno-canto.org/446610/download</td>\n",
       "      <td>XC446610-Crypturellus cinereus - DaRec_2018052...</td>\n",
       "      <td>32</td>\n",
       "      <td>NaN</td>\n",
       "      <td>A</td>\n",
       "    </tr>\n",
       "    <tr>\n",
       "      <td>2</td>\n",
       "      <td>10</td>\n",
       "      <td>424163</td>\n",
       "      <td>Crypturellus</td>\n",
       "      <td>cinereus</td>\n",
       "      <td>Cinereous Tinamou</td>\n",
       "      <td>https://www.xeno-canto.org/424163/download</td>\n",
       "      <td>XC424163-Crypturellus cinereus. RO. ME- Felipe...</td>\n",
       "      <td>36</td>\n",
       "      <td>Sclerurus obscurior, Amazona farinosa</td>\n",
       "      <td>A</td>\n",
       "    </tr>\n",
       "    <tr>\n",
       "      <td>3</td>\n",
       "      <td>11</td>\n",
       "      <td>333322</td>\n",
       "      <td>Crypturellus</td>\n",
       "      <td>cinereus</td>\n",
       "      <td>Cinereous Tinamou</td>\n",
       "      <td>https://www.xeno-canto.org/333322/download</td>\n",
       "      <td>XC333322-CRYCIN13.mp3</td>\n",
       "      <td>51</td>\n",
       "      <td>Thamnophilus aethiops, Hypocnemis ochrogyna, M...</td>\n",
       "      <td>A</td>\n",
       "    </tr>\n",
       "    <tr>\n",
       "      <td>4</td>\n",
       "      <td>12</td>\n",
       "      <td>329091</td>\n",
       "      <td>Crypturellus</td>\n",
       "      <td>cinereus</td>\n",
       "      <td>Cinereous Tinamou</td>\n",
       "      <td>https://www.xeno-canto.org/329091/download</td>\n",
       "      <td>XC329091-Crypturellus cinereus(song)XapuriAC23...</td>\n",
       "      <td>37</td>\n",
       "      <td>NaN</td>\n",
       "      <td>A</td>\n",
       "    </tr>\n",
       "  </tbody>\n",
       "</table>\n",
       "</div>"
      ],
      "text/plain": [
       "   index  file_id         genus   species               name  \\\n",
       "0      8   452850  Crypturellus  cinereus  Cinereous Tinamou   \n",
       "1      9   446610  Crypturellus  cinereus  Cinereous Tinamou   \n",
       "2     10   424163  Crypturellus  cinereus  Cinereous Tinamou   \n",
       "3     11   333322  Crypturellus  cinereus  Cinereous Tinamou   \n",
       "4     12   329091  Crypturellus  cinereus  Cinereous Tinamou   \n",
       "\n",
       "                                 download_url  \\\n",
       "0  https://www.xeno-canto.org/452850/download   \n",
       "1  https://www.xeno-canto.org/446610/download   \n",
       "2  https://www.xeno-canto.org/424163/download   \n",
       "3  https://www.xeno-canto.org/333322/download   \n",
       "4  https://www.xeno-canto.org/329091/download   \n",
       "\n",
       "                                           file_name  duration  \\\n",
       "0   XC452850-Cinereous Tinamou, song, 190117-023.mp3        53   \n",
       "1  XC446610-Crypturellus cinereus - DaRec_2018052...        32   \n",
       "2  XC424163-Crypturellus cinereus. RO. ME- Felipe...        36   \n",
       "3                              XC333322-CRYCIN13.mp3        51   \n",
       "4  XC329091-Crypturellus cinereus(song)XapuriAC23...        37   \n",
       "\n",
       "                          other_species_in_recording quality  \n",
       "0  Poecilotriccus latirostris, Pheugopedius genib...       A  \n",
       "1                                                NaN       A  \n",
       "2              Sclerurus obscurior, Amazona farinosa       A  \n",
       "3  Thamnophilus aethiops, Hypocnemis ochrogyna, M...       A  \n",
       "4                                                NaN       A  "
      ]
     },
     "execution_count": 4,
     "metadata": {},
     "output_type": "execute_result"
    }
   ],
   "source": [
    "birds.head()"
   ]
  },
  {
   "cell_type": "code",
   "execution_count": 5,
   "metadata": {
    "colab": {
     "base_uri": "https://localhost:8080/",
     "height": 34
    },
    "colab_type": "code",
    "executionInfo": {
     "elapsed": 410,
     "status": "ok",
     "timestamp": 1580348586890,
     "user": {
      "displayName": "Vignesh Nswamy",
      "photoUrl": "",
      "userId": "06700071264879209175"
     },
     "user_tz": 360
    },
    "id": "WBhlMq2gdffT",
    "outputId": "887b42e2-57dd-427e-868c-254670eb4b94"
   },
   "outputs": [
    {
     "name": "stdout",
     "output_type": "stream",
     "text": [
      "Number of unique Genera: 182\n"
     ]
    }
   ],
   "source": [
    "genus_list = sorted(birds['genus'].unique().tolist())\n",
    "n_classes = len(genus_list)\n",
    "id_to_genus = {v: k for v, k in enumerate(genus_list)}\n",
    "genus_to_id = {k: v for v, k in enumerate(genus_list)}\n",
    "print('Number of unique Genera: {}'.format(n_classes))"
   ]
  },
  {
   "cell_type": "code",
   "execution_count": 6,
   "metadata": {
    "colab": {},
    "colab_type": "code",
    "id": "X3mSC-LZrkPW"
   },
   "outputs": [],
   "source": [
    "import json\n",
    "with open(os.path.join(data_path, 'id_to_genus.json'), 'w') as f:\n",
    "    json.dump(id_to_genus, f)\n",
    "with open(os.path.join(data_path, 'genus_to_id.json'), 'w') as f:\n",
    "    json.dump(genus_to_id, f)"
   ]
  },
  {
   "cell_type": "code",
   "execution_count": 7,
   "metadata": {
    "colab": {},
    "colab_type": "code",
    "id": "z41b4bash-TB"
   },
   "outputs": [],
   "source": [
    "data_X = birds.download_url\n",
    "data_y = birds.genus\n",
    "X_train, X_test, y_train, y_test = train_test_split(data_X, data_y, stratify=data_y, test_size=0.2, random_state=100)\n",
    "assert len(y_train.unique()) == n_classes\n",
    "assert len(y_test.unique()) == n_classes"
   ]
  },
  {
   "cell_type": "code",
   "execution_count": 8,
   "metadata": {
    "colab": {},
    "colab_type": "code",
    "id": "eW5ZSk5rlV5P"
   },
   "outputs": [],
   "source": [
    "X_train_1, y_train_1 = X_train[:1796], y_train[:1796]\n",
    "X_train_2, y_train_2 = X_train[1796:3592], y_train[1796:3592]\n",
    "X_train_3, y_train_3 = X_train[3592:5338], y_train[3592:5338]\n",
    "X_train_4, y_train_4 = X_train[5338:7184], y_train[5338:7184]\n",
    "X_train_5, y_train_5 = X_train[7184:8980], y_train[7184:8980]\n",
    "X_train_6, y_train_6 = X_train[8980:], y_train[8980:]"
   ]
  },
  {
   "cell_type": "code",
   "execution_count": 9,
   "metadata": {
    "colab": {
     "base_uri": "https://localhost:8080/",
     "height": 34
    },
    "colab_type": "code",
    "executionInfo": {
     "elapsed": 381,
     "status": "ok",
     "timestamp": 1580348591765,
     "user": {
      "displayName": "Vignesh Nswamy",
      "photoUrl": "",
      "userId": "06700071264879209175"
     },
     "user_tz": 360
    },
    "id": "lJNhS8pMmtCv",
    "outputId": "9dd4ca7f-5579-4e00-86d8-f041b0f55f4c"
   },
   "outputs": [
    {
     "data": {
      "text/plain": [
       "312"
      ]
     },
     "execution_count": 9,
     "metadata": {},
     "output_type": "execute_result"
    }
   ],
   "source": [
    "del X_train\n",
    "del y_train\n",
    "gc.collect()"
   ]
  },
  {
   "cell_type": "code",
   "execution_count": 10,
   "metadata": {
    "colab": {},
    "colab_type": "code",
    "id": "V4daGJB2qxu-"
   },
   "outputs": [],
   "source": [
    "def transform(x):\n",
    "    x_raw = librosa.core.db_to_power(x, ref=1.0)\n",
    "    x_log = numpy.log(x_raw)\n",
    "    return x_log"
   ]
  },
  {
   "cell_type": "code",
   "execution_count": 11,
   "metadata": {
    "colab": {},
    "colab_type": "code",
    "id": "3ACs_KRndffj"
   },
   "outputs": [],
   "source": [
    "def convert(wav_audio_path):\n",
    "    y, sr = librosa.load(wav_audio_path)\n",
    "    spect = librosa.feature.melspectrogram(y=y, sr=sr,n_fft=2048, hop_length=512)\n",
    "    spect = librosa.power_to_db(spect, ref=numpy.max)\n",
    "    spect = spect.T\n",
    "    return spect"
   ]
  },
  {
   "cell_type": "code",
   "execution_count": 12,
   "metadata": {
    "colab": {},
    "colab_type": "code",
    "id": "Uhj7fiCfoc7H"
   },
   "outputs": [],
   "source": [
    "def get_audio(url):\n",
    "    try:\n",
    "        download_url = url\n",
    "        file_name = url.split('/')[3]\n",
    "        mp3_path = os.path.join(parent_path, file_name+'.mp3')\n",
    "        wav_path = os.path.join(parent_path, file_name+'.wav')\n",
    "        r = requests.get(download_url, allow_redirects=True)\n",
    "        with open(mp3_path,'wb') as op:\n",
    "            op.write(r.content)\n",
    "        sound = AudioSegment.from_mp3(mp3_path)[:20000]\n",
    "        sound.export(wav_path, format=\"wav\")\n",
    "        audio = convert(wav_path)\n",
    "        os.unlink(wav_path)\n",
    "        os.unlink(mp3_path)\n",
    "        if audio.shape[0] == 862:\n",
    "            return True, audio\n",
    "        else: \n",
    "            return False, None\n",
    "    except Exception as e:\n",
    "        print(e)\n",
    "        return False, None"
   ]
  },
  {
   "cell_type": "code",
   "execution_count": 13,
   "metadata": {},
   "outputs": [],
   "source": [
    "def save_npz(data_x, data_y, save_path):\n",
    "    x_accumulator = numpy.empty((0, 862, 128))\n",
    "    y_accumulator = numpy.empty((0, n_classes))\n",
    "    for i, url in tqdm(data_x.items()):\n",
    "        processed, audio = get_audio(url)\n",
    "        if processed:\n",
    "            x_accumulator = numpy.append(x_accumulator, [audio], axis=0)\n",
    "            genus_class = genus_to_id[data_y[i]]\n",
    "            onehot_class =  numpy.eye(n_classes)[genus_class]\n",
    "            y_accumulator = numpy.concatenate((y_accumulator, onehot_class.reshape((1, 182))), axis=0)\n",
    "    numpy.savez_compressed(save_path, train=x_accumulator, test=y_accumulator)"
   ]
  },
  {
   "cell_type": "code",
   "execution_count": 14,
   "metadata": {
    "colab": {},
    "colab_type": "code",
    "id": "rhY8f8UoqasQ"
   },
   "outputs": [
    {
     "name": "stderr",
     "output_type": "stream",
     "text": [
      "27it [03:05,  7.40s/it]"
     ]
    },
    {
     "name": "stdout",
     "output_type": "stream",
     "text": [
      "Decoding failed. ffmpeg returned error code: 1\n",
      "\n",
      "Output from ffmpeg/avlib:\n",
      "\n",
      "b'ffmpeg version git-2020-02-27-9b22254 Copyright (c) 2000-2020 the FFmpeg developers\\r\\n  built with gcc 9.2.1 (GCC) 20200122\\r\\n  configuration: --enable-gpl --enable-version3 --enable-sdl2 --enable-fontconfig --enable-gnutls --enable-iconv --enable-libass --enable-libdav1d --enable-libbluray --enable-libfreetype --enable-libmp3lame --enable-libopencore-amrnb --enable-libopencore-amrwb --enable-libopenjpeg --enable-libopus --enable-libshine --enable-libsnappy --enable-libsoxr --enable-libtheora --enable-libtwolame --enable-libvpx --enable-libwavpack --enable-libwebp --enable-libx264 --enable-libx265 --enable-libxml2 --enable-libzimg --enable-lzma --enable-zlib --enable-gmp --enable-libvidstab --enable-libvorbis --enable-libvo-amrwbenc --enable-libmysofa --enable-libspeex --enable-libxvid --enable-libaom --enable-libmfx --enable-ffnvcodec --enable-cuda-llvm --enable-cuvid --enable-d3d11va --enable-nvenc --enable-nvdec --enable-dxva2 --enable-avisynth --enable-libopenmpt --enable-amf\\r\\n  libavutil      56. 42.100 / 56. 42.100\\r\\n  libavcodec     58. 73.102 / 58. 73.102\\r\\n  libavformat    58. 39.101 / 58. 39.101\\r\\n  libavdevice    58.  9.103 / 58.  9.103\\r\\n  libavfilter     7. 77.100 /  7. 77.100\\r\\n  libswscale      5.  6.100 /  5.  6.100\\r\\n  libswresample   3.  6.100 /  3.  6.100\\r\\n  libpostproc    55.  6.100 / 55.  6.100\\r\\n[mp3 @ 0000025ae7f29580] Failed to read frame size: Could not seek to 1219.\\r\\n84129.mp3: Invalid argument\\r\\n'\n"
     ]
    },
    {
     "name": "stderr",
     "output_type": "stream",
     "text": [
      "752it [52:26,  3.74s/it]"
     ]
    },
    {
     "name": "stdout",
     "output_type": "stream",
     "text": [
      "Decoding failed. ffmpeg returned error code: 1\n",
      "\n",
      "Output from ffmpeg/avlib:\n",
      "\n",
      "b'ffmpeg version git-2020-02-27-9b22254 Copyright (c) 2000-2020 the FFmpeg developers\\r\\n  built with gcc 9.2.1 (GCC) 20200122\\r\\n  configuration: --enable-gpl --enable-version3 --enable-sdl2 --enable-fontconfig --enable-gnutls --enable-iconv --enable-libass --enable-libdav1d --enable-libbluray --enable-libfreetype --enable-libmp3lame --enable-libopencore-amrnb --enable-libopencore-amrwb --enable-libopenjpeg --enable-libopus --enable-libshine --enable-libsnappy --enable-libsoxr --enable-libtheora --enable-libtwolame --enable-libvpx --enable-libwavpack --enable-libwebp --enable-libx264 --enable-libx265 --enable-libxml2 --enable-libzimg --enable-lzma --enable-zlib --enable-gmp --enable-libvidstab --enable-libvorbis --enable-libvo-amrwbenc --enable-libmysofa --enable-libspeex --enable-libxvid --enable-libaom --enable-libmfx --enable-ffnvcodec --enable-cuda-llvm --enable-cuvid --enable-d3d11va --enable-nvenc --enable-nvdec --enable-dxva2 --enable-avisynth --enable-libopenmpt --enable-amf\\r\\n  libavutil      56. 42.100 / 56. 42.100\\r\\n  libavcodec     58. 73.102 / 58. 73.102\\r\\n  libavformat    58. 39.101 / 58. 39.101\\r\\n  libavdevice    58.  9.103 / 58.  9.103\\r\\n  libavfilter     7. 77.100 /  7. 77.100\\r\\n  libswscale      5.  6.100 /  5.  6.100\\r\\n  libswresample   3.  6.100 /  3.  6.100\\r\\n  libpostproc    55.  6.100 / 55.  6.100\\r\\n[mp3 @ 000001446ac29580] Failed to read frame size: Could not seek to 13445.\\r\\n521236.mp3: Invalid argument\\r\\n'\n"
     ]
    },
    {
     "name": "stderr",
     "output_type": "stream",
     "text": [
      "805it [55:47,  5.12s/it]"
     ]
    },
    {
     "name": "stdout",
     "output_type": "stream",
     "text": [
      "Decoding failed. ffmpeg returned error code: 1\n",
      "\n",
      "Output from ffmpeg/avlib:\n",
      "\n",
      "b'ffmpeg version git-2020-02-27-9b22254 Copyright (c) 2000-2020 the FFmpeg developers\\r\\n  built with gcc 9.2.1 (GCC) 20200122\\r\\n  configuration: --enable-gpl --enable-version3 --enable-sdl2 --enable-fontconfig --enable-gnutls --enable-iconv --enable-libass --enable-libdav1d --enable-libbluray --enable-libfreetype --enable-libmp3lame --enable-libopencore-amrnb --enable-libopencore-amrwb --enable-libopenjpeg --enable-libopus --enable-libshine --enable-libsnappy --enable-libsoxr --enable-libtheora --enable-libtwolame --enable-libvpx --enable-libwavpack --enable-libwebp --enable-libx264 --enable-libx265 --enable-libxml2 --enable-libzimg --enable-lzma --enable-zlib --enable-gmp --enable-libvidstab --enable-libvorbis --enable-libvo-amrwbenc --enable-libmysofa --enable-libspeex --enable-libxvid --enable-libaom --enable-libmfx --enable-ffnvcodec --enable-cuda-llvm --enable-cuvid --enable-d3d11va --enable-nvenc --enable-nvdec --enable-dxva2 --enable-avisynth --enable-libopenmpt --enable-amf\\r\\n  libavutil      56. 42.100 / 56. 42.100\\r\\n  libavcodec     58. 73.102 / 58. 73.102\\r\\n  libavformat    58. 39.101 / 58. 39.101\\r\\n  libavdevice    58.  9.103 / 58.  9.103\\r\\n  libavfilter     7. 77.100 /  7. 77.100\\r\\n  libswscale      5.  6.100 /  5.  6.100\\r\\n  libswresample   3.  6.100 /  3.  6.100\\r\\n  libpostproc    55.  6.100 / 55.  6.100\\r\\n[mp3 @ 0000018e5ba69580] Failed to read frame size: Could not seek to 13445.\\r\\n400334.mp3: Invalid argument\\r\\n'\n"
     ]
    },
    {
     "name": "stderr",
     "output_type": "stream",
     "text": [
      "1059it [1:11:43,  5.00s/it]"
     ]
    },
    {
     "name": "stdout",
     "output_type": "stream",
     "text": [
      "Decoding failed. ffmpeg returned error code: 1\n",
      "\n",
      "Output from ffmpeg/avlib:\n",
      "\n",
      "b'ffmpeg version git-2020-02-27-9b22254 Copyright (c) 2000-2020 the FFmpeg developers\\r\\n  built with gcc 9.2.1 (GCC) 20200122\\r\\n  configuration: --enable-gpl --enable-version3 --enable-sdl2 --enable-fontconfig --enable-gnutls --enable-iconv --enable-libass --enable-libdav1d --enable-libbluray --enable-libfreetype --enable-libmp3lame --enable-libopencore-amrnb --enable-libopencore-amrwb --enable-libopenjpeg --enable-libopus --enable-libshine --enable-libsnappy --enable-libsoxr --enable-libtheora --enable-libtwolame --enable-libvpx --enable-libwavpack --enable-libwebp --enable-libx264 --enable-libx265 --enable-libxml2 --enable-libzimg --enable-lzma --enable-zlib --enable-gmp --enable-libvidstab --enable-libvorbis --enable-libvo-amrwbenc --enable-libmysofa --enable-libspeex --enable-libxvid --enable-libaom --enable-libmfx --enable-ffnvcodec --enable-cuda-llvm --enable-cuvid --enable-d3d11va --enable-nvenc --enable-nvdec --enable-dxva2 --enable-avisynth --enable-libopenmpt --enable-amf\\r\\n  libavutil      56. 42.100 / 56. 42.100\\r\\n  libavcodec     58. 73.102 / 58. 73.102\\r\\n  libavformat    58. 39.101 / 58. 39.101\\r\\n  libavdevice    58.  9.103 / 58.  9.103\\r\\n  libavfilter     7. 77.100 /  7. 77.100\\r\\n  libswscale      5.  6.100 /  5.  6.100\\r\\n  libswresample   3.  6.100 /  3.  6.100\\r\\n  libpostproc    55.  6.100 / 55.  6.100\\r\\n[mp3 @ 000002d4ad2d9580] Failed to read frame size: Could not seek to 13445.\\r\\n400331.mp3: Invalid argument\\r\\n'\n"
     ]
    },
    {
     "name": "stderr",
     "output_type": "stream",
     "text": [
      "1796it [1:59:17,  3.99s/it]\n"
     ]
    }
   ],
   "source": [
    "save_npz(X_train_5, y_train_5, os.path.join(npz_path, 'train_data_5'))"
   ]
  }
 ],
 "metadata": {
  "colab": {
   "collapsed_sections": [],
   "name": "Copy of 02. download_bird_songs.ipynb",
   "provenance": [
    {
     "file_id": "1i0g_vA_2kAK322Nk912qdG-O1k984OfC",
     "timestamp": 1580509192048
    }
   ]
  },
  "kernelspec": {
   "display_name": "Python 3",
   "language": "python",
   "name": "python3"
  },
  "language_info": {
   "codemirror_mode": {
    "name": "ipython",
    "version": 3
   },
   "file_extension": ".py",
   "mimetype": "text/x-python",
   "name": "python",
   "nbconvert_exporter": "python",
   "pygments_lexer": "ipython3",
   "version": "3.7.4"
  }
 },
 "nbformat": 4,
 "nbformat_minor": 1
}
