{
  "nbformat": 4,
  "nbformat_minor": 0,
  "metadata": {
    "colab": {
      "name": "model.ipynb",
      "provenance": [],
      "collapsed_sections": [],
      "machine_shape": "hm"
    },
    "kernelspec": {
      "name": "python3",
      "display_name": "Python 3"
    },
    "accelerator": "GPU"
  },
  "cells": [
    {
      "cell_type": "code",
      "metadata": {
        "id": "7OTpNlLHGNwe",
        "colab_type": "code",
        "colab": {
          "base_uri": "https://localhost:8080/",
          "height": 122
        },
        "outputId": "b09c746a-c250-4477-8e28-eb999b42ca87"
      },
      "source": [
        "from google.colab import drive\n",
        "drive.mount('/content/drive')"
      ],
      "execution_count": 1,
      "outputs": [
        {
          "output_type": "stream",
          "text": [
            "Go to this URL in a browser: https://accounts.google.com/o/oauth2/auth?client_id=947318989803-6bn6qk8qdgf4n4g3pfee6491hc0brc4i.apps.googleusercontent.com&redirect_uri=urn%3aietf%3awg%3aoauth%3a2.0%3aoob&response_type=code&scope=email%20https%3a%2f%2fwww.googleapis.com%2fauth%2fdocs.test%20https%3a%2f%2fwww.googleapis.com%2fauth%2fdrive%20https%3a%2f%2fwww.googleapis.com%2fauth%2fdrive.photos.readonly%20https%3a%2f%2fwww.googleapis.com%2fauth%2fpeopleapi.readonly\n",
            "\n",
            "Enter your authorization code:\n",
            "··········\n",
            "Mounted at /content/drive\n"
          ],
          "name": "stdout"
        }
      ]
    },
    {
      "cell_type": "code",
      "metadata": {
        "id": "0mMHRW5w8S6M",
        "colab_type": "code",
        "colab": {}
      },
      "source": [
        "%tensorflow_version 2.x\n",
        "import numpy\n",
        "import os\n",
        "import sys\n",
        "import librosa\n",
        "import tensorflow as tf\n",
        "import matplotlib.pyplot as plt"
      ],
      "execution_count": 0,
      "outputs": []
    },
    {
      "cell_type": "code",
      "metadata": {
        "id": "6g5y5zF68fpa",
        "colab_type": "code",
        "colab": {}
      },
      "source": [
        "batch_size = 64\n",
        "root = '/content/drive/My Drive/Experimental Projects/Bird Genus'\n",
        "data_path = os.path.join(root, 'data')\n",
        "npz_path = os.path.join(root, 'audio_npz')"
      ],
      "execution_count": 0,
      "outputs": []
    },
    {
      "cell_type": "code",
      "metadata": {
        "id": "JnWkxs_7CXXA",
        "colab_type": "code",
        "colab": {}
      },
      "source": [
        "sys.path.append(root)\n",
        "from models import ConvolutionalRNN, SimpleRNN"
      ],
      "execution_count": 0,
      "outputs": []
    },
    {
      "cell_type": "code",
      "metadata": {
        "id": "kUUs5jRhAgzS",
        "colab_type": "code",
        "colab": {}
      },
      "source": [
        "def get_data():\n",
        "    x_train = numpy.empty((0, 862, 128))\n",
        "    y_train = numpy.empty((0, 182))\n",
        "    for npz_file in os.listdir(npz_path):\n",
        "        npz = numpy.load(os.path.join(npz_path, npz_file))\n",
        "        x_train = numpy.concatenate((x_train, npz['train']), axis=0)\n",
        "        y_train = numpy.concatenate((y_train, npz['test']), axis=0)\n",
        "    return x_train, y_train"
      ],
      "execution_count": 0,
      "outputs": []
    },
    {
      "cell_type": "code",
      "metadata": {
        "id": "0SppcjJT8rQz",
        "colab_type": "code",
        "colab": {}
      },
      "source": [
        "x_train, y_train = get_data()"
      ],
      "execution_count": 0,
      "outputs": []
    },
    {
      "cell_type": "code",
      "metadata": {
        "id": "FevKx07j653u",
        "colab_type": "code",
        "colab": {}
      },
      "source": [
        "def plot_accuracy_summary(history):\n",
        "    plt.title('Loss')\n",
        "    plt.plot(history.history['categorical_accuracy'], label='train')\n",
        "    plt.plot(history.history['val_categorical_accuracy'], label='test')\n",
        "    plt.legend()\n",
        "    plt.show()"
      ],
      "execution_count": 0,
      "outputs": []
    },
    {
      "cell_type": "code",
      "metadata": {
        "id": "uAGDNBm0uxTV",
        "colab_type": "code",
        "outputId": "e5ee75f2-f8a8-4d99-ee3c-bb4a90391abc",
        "colab": {
          "base_uri": "https://localhost:8080/",
          "height": 1000
        }
      },
      "source": [
        "crnn_model = ConvolutionalRNN().get_model()\n",
        "crnn_model.summary()"
      ],
      "execution_count": 9,
      "outputs": [
        {
          "output_type": "stream",
          "text": [
            "Model: \"sequential_1\"\n",
            "_________________________________________________________________\n",
            "Layer (type)                 Output Shape              Param #   \n",
            "=================================================================\n",
            "conv1d (Conv1D)              (None, 858, 56)           35896     \n",
            "_________________________________________________________________\n",
            "batch_normalization (BatchNo (None, 858, 56)           224       \n",
            "_________________________________________________________________\n",
            "leaky_re_lu (LeakyReLU)      (None, 858, 56)           0         \n",
            "_________________________________________________________________\n",
            "max_pooling1d (MaxPooling1D) (None, 429, 56)           0         \n",
            "_________________________________________________________________\n",
            "conv1d_1 (Conv1D)            (None, 425, 56)           15736     \n",
            "_________________________________________________________________\n",
            "batch_normalization_1 (Batch (None, 425, 56)           224       \n",
            "_________________________________________________________________\n",
            "leaky_re_lu_1 (LeakyReLU)    (None, 425, 56)           0         \n",
            "_________________________________________________________________\n",
            "max_pooling1d_1 (MaxPooling1 (None, 212, 56)           0         \n",
            "_________________________________________________________________\n",
            "conv1d_2 (Conv1D)            (None, 208, 56)           15736     \n",
            "_________________________________________________________________\n",
            "batch_normalization_2 (Batch (None, 208, 56)           224       \n",
            "_________________________________________________________________\n",
            "leaky_re_lu_2 (LeakyReLU)    (None, 208, 56)           0         \n",
            "_________________________________________________________________\n",
            "max_pooling1d_2 (MaxPooling1 (None, 104, 56)           0         \n",
            "_________________________________________________________________\n",
            "conv1d_3 (Conv1D)            (None, 100, 56)           15736     \n",
            "_________________________________________________________________\n",
            "batch_normalization_3 (Batch (None, 100, 56)           224       \n",
            "_________________________________________________________________\n",
            "leaky_re_lu_3 (LeakyReLU)    (None, 100, 56)           0         \n",
            "_________________________________________________________________\n",
            "max_pooling1d_3 (MaxPooling1 (None, 50, 56)            0         \n",
            "_________________________________________________________________\n",
            "conv1d_4 (Conv1D)            (None, 46, 56)            15736     \n",
            "_________________________________________________________________\n",
            "batch_normalization_4 (Batch (None, 46, 56)            224       \n",
            "_________________________________________________________________\n",
            "leaky_re_lu_4 (LeakyReLU)    (None, 46, 56)            0         \n",
            "_________________________________________________________________\n",
            "max_pooling1d_4 (MaxPooling1 (None, 23, 56)            0         \n",
            "_________________________________________________________________\n",
            "lstm (LSTM)                  (None, 96)                58752     \n",
            "_________________________________________________________________\n",
            "dropout (Dropout)            (None, 96)                0         \n",
            "_________________________________________________________________\n",
            "dense (Dense)                (None, 1024)              99328     \n",
            "_________________________________________________________________\n",
            "dropout_1 (Dropout)          (None, 1024)              0         \n",
            "_________________________________________________________________\n",
            "dense_1 (Dense)              (None, 512)               524800    \n",
            "_________________________________________________________________\n",
            "dropout_2 (Dropout)          (None, 512)               0         \n",
            "_________________________________________________________________\n",
            "dense_2 (Dense)              (None, 182)               93366     \n",
            "=================================================================\n",
            "Total params: 876,206\n",
            "Trainable params: 875,646\n",
            "Non-trainable params: 560\n",
            "_________________________________________________________________\n"
          ],
          "name": "stdout"
        }
      ]
    },
    {
      "cell_type": "code",
      "metadata": {
        "id": "In1ttK2PCtsp",
        "colab_type": "code",
        "colab": {
          "base_uri": "https://localhost:8080/",
          "height": 391
        },
        "outputId": "4ba93fc7-0643-427e-ec01-0ac0eb446dac"
      },
      "source": [
        "rnn_model = SimpleRNN().get_model()\n",
        "rnn_model.summary()"
      ],
      "execution_count": 10,
      "outputs": [
        {
          "output_type": "stream",
          "text": [
            "Model: \"sequential_2\"\n",
            "_________________________________________________________________\n",
            "Layer (type)                 Output Shape              Param #   \n",
            "=================================================================\n",
            "lstm_1 (LSTM)                (None, 256)               394240    \n",
            "_________________________________________________________________\n",
            "dropout_3 (Dropout)          (None, 256)               0         \n",
            "_________________________________________________________________\n",
            "dense_3 (Dense)              (None, 512)               131584    \n",
            "_________________________________________________________________\n",
            "dropout_4 (Dropout)          (None, 512)               0         \n",
            "_________________________________________________________________\n",
            "dense_4 (Dense)              (None, 256)               131328    \n",
            "_________________________________________________________________\n",
            "dropout_5 (Dropout)          (None, 256)               0         \n",
            "_________________________________________________________________\n",
            "dense_5 (Dense)              (None, 182)               46774     \n",
            "=================================================================\n",
            "Total params: 703,926\n",
            "Trainable params: 703,926\n",
            "Non-trainable params: 0\n",
            "_________________________________________________________________\n"
          ],
          "name": "stdout"
        }
      ]
    },
    {
      "cell_type": "code",
      "metadata": {
        "id": "JJ-WaUqYzE68",
        "colab_type": "code",
        "colab": {}
      },
      "source": [
        "reducelr_callback = tf.keras.callbacks.ReduceLROnPlateau(monitor='val_categorical_accuracy',\n",
        "                                                         factor=0.2,\n",
        "                                                         patience=5,\n",
        "                                                         min_delta=0.01,\n",
        "                                                         verbose=1)\n",
        "checkpoint_callback = tf.keras.callbacks.ModelCheckpoint(os.path.join(root, 'weights', 'best_weights.h5'),\n",
        "                                                         monitor='val_categorical_accuracy',\n",
        "                                                         verbose=1,\n",
        "                                                         save_best_only=True, mode='max')\n",
        "\n",
        "callbacks_list = [checkpoint_callback, reducelr_callback]"
      ],
      "execution_count": 0,
      "outputs": []
    },
    {
      "cell_type": "code",
      "metadata": {
        "id": "u09T5ff7ym4S",
        "colab_type": "code",
        "colab": {
          "base_uri": "https://localhost:8080/",
          "height": 1000
        },
        "outputId": "aeeaeae2-3e2d-4034-f98b-fc844459a7b3"
      },
      "source": [
        "crnn_model.compile(loss='categorical_crossentropy',\n",
        "                   optimizer=tf.keras.optimizers.Adam(),\n",
        "                   metrics=[tf.keras.metrics.CategoricalAccuracy()])\n",
        "history = crnn_model.fit(x_train, y_train, epochs=50, verbose=2, validation_split=0.2, batch_size=64, callbacks=callbacks_list)"
      ],
      "execution_count": 12,
      "outputs": [
        {
          "output_type": "stream",
          "text": [
            "Train on 7176 samples, validate on 1794 samples\n",
            "Epoch 1/50\n",
            "\n",
            "Epoch 00001: val_categorical_accuracy improved from -inf to 0.04961, saving model to /content/drive/My Drive/Experimental Projects/Bird Genus/weights/best_weights.h5\n",
            "7176/7176 - 15s - loss: 5.4259 - categorical_accuracy: 0.0500 - val_loss: 5.4481 - val_categorical_accuracy: 0.0496\n",
            "Epoch 2/50\n",
            "\n",
            "Epoch 00002: val_categorical_accuracy did not improve from 0.04961\n",
            "7176/7176 - 4s - loss: 4.9918 - categorical_accuracy: 0.0783 - val_loss: 5.3284 - val_categorical_accuracy: 0.0474\n",
            "Epoch 3/50\n",
            "\n",
            "Epoch 00003: val_categorical_accuracy did not improve from 0.04961\n",
            "7176/7176 - 4s - loss: 4.6140 - categorical_accuracy: 0.1067 - val_loss: 5.4972 - val_categorical_accuracy: 0.0340\n",
            "Epoch 4/50\n",
            "\n",
            "Epoch 00004: val_categorical_accuracy improved from 0.04961 to 0.12319, saving model to /content/drive/My Drive/Experimental Projects/Bird Genus/weights/best_weights.h5\n",
            "7176/7176 - 4s - loss: 4.3404 - categorical_accuracy: 0.1336 - val_loss: 4.5100 - val_categorical_accuracy: 0.1232\n",
            "Epoch 5/50\n",
            "\n",
            "Epoch 00005: val_categorical_accuracy did not improve from 0.12319\n",
            "7176/7176 - 4s - loss: 4.1328 - categorical_accuracy: 0.1541 - val_loss: 4.7450 - val_categorical_accuracy: 0.0814\n",
            "Epoch 6/50\n",
            "\n",
            "Epoch 00006: val_categorical_accuracy did not improve from 0.12319\n",
            "7176/7176 - 4s - loss: 3.9474 - categorical_accuracy: 0.1688 - val_loss: 4.8733 - val_categorical_accuracy: 0.0814\n",
            "Epoch 7/50\n",
            "\n",
            "Epoch 00007: val_categorical_accuracy did not improve from 0.12319\n",
            "7176/7176 - 4s - loss: 3.7745 - categorical_accuracy: 0.1998 - val_loss: 4.5725 - val_categorical_accuracy: 0.1065\n",
            "Epoch 8/50\n",
            "\n",
            "Epoch 00008: val_categorical_accuracy did not improve from 0.12319\n",
            "7176/7176 - 4s - loss: 3.6001 - categorical_accuracy: 0.2170 - val_loss: 4.8018 - val_categorical_accuracy: 0.1115\n",
            "Epoch 9/50\n",
            "\n",
            "Epoch 00009: val_categorical_accuracy improved from 0.12319 to 0.21293, saving model to /content/drive/My Drive/Experimental Projects/Bird Genus/weights/best_weights.h5\n",
            "7176/7176 - 5s - loss: 3.5077 - categorical_accuracy: 0.2317 - val_loss: 3.7981 - val_categorical_accuracy: 0.2129\n",
            "Epoch 10/50\n",
            "\n",
            "Epoch 00010: val_categorical_accuracy did not improve from 0.21293\n",
            "7176/7176 - 4s - loss: 3.3444 - categorical_accuracy: 0.2507 - val_loss: 5.0604 - val_categorical_accuracy: 0.0401\n",
            "Epoch 11/50\n",
            "\n",
            "Epoch 00011: val_categorical_accuracy did not improve from 0.21293\n",
            "7176/7176 - 4s - loss: 3.2609 - categorical_accuracy: 0.2671 - val_loss: 4.0897 - val_categorical_accuracy: 0.1566\n",
            "Epoch 12/50\n",
            "\n",
            "Epoch 00012: val_categorical_accuracy improved from 0.21293 to 0.23300, saving model to /content/drive/My Drive/Experimental Projects/Bird Genus/weights/best_weights.h5\n",
            "7176/7176 - 4s - loss: 3.1854 - categorical_accuracy: 0.2722 - val_loss: 3.6457 - val_categorical_accuracy: 0.2330\n",
            "Epoch 13/50\n",
            "\n",
            "Epoch 00013: val_categorical_accuracy did not improve from 0.23300\n",
            "7176/7176 - 4s - loss: 3.0659 - categorical_accuracy: 0.2918 - val_loss: 3.9883 - val_categorical_accuracy: 0.1761\n",
            "Epoch 14/50\n",
            "\n",
            "Epoch 00014: val_categorical_accuracy did not improve from 0.23300\n",
            "7176/7176 - 4s - loss: 2.9682 - categorical_accuracy: 0.3108 - val_loss: 3.8683 - val_categorical_accuracy: 0.2074\n",
            "Epoch 15/50\n",
            "\n",
            "Epoch 00015: val_categorical_accuracy did not improve from 0.23300\n",
            "7176/7176 - 4s - loss: 2.9240 - categorical_accuracy: 0.3135 - val_loss: 4.2657 - val_categorical_accuracy: 0.1377\n",
            "Epoch 16/50\n",
            "\n",
            "Epoch 00016: val_categorical_accuracy improved from 0.23300 to 0.24693, saving model to /content/drive/My Drive/Experimental Projects/Bird Genus/weights/best_weights.h5\n",
            "7176/7176 - 5s - loss: 2.8017 - categorical_accuracy: 0.3424 - val_loss: 3.5726 - val_categorical_accuracy: 0.2469\n",
            "Epoch 17/50\n",
            "\n",
            "Epoch 00017: val_categorical_accuracy did not improve from 0.24693\n",
            "7176/7176 - 4s - loss: 2.7274 - categorical_accuracy: 0.3588 - val_loss: 4.5026 - val_categorical_accuracy: 0.1812\n",
            "Epoch 18/50\n",
            "\n",
            "Epoch 00018: val_categorical_accuracy improved from 0.24693 to 0.27480, saving model to /content/drive/My Drive/Experimental Projects/Bird Genus/weights/best_weights.h5\n",
            "7176/7176 - 4s - loss: 2.6959 - categorical_accuracy: 0.3584 - val_loss: 3.4225 - val_categorical_accuracy: 0.2748\n",
            "Epoch 19/50\n",
            "\n",
            "Epoch 00019: val_categorical_accuracy improved from 0.27480 to 0.27703, saving model to /content/drive/My Drive/Experimental Projects/Bird Genus/weights/best_weights.h5\n",
            "7176/7176 - 4s - loss: 2.6128 - categorical_accuracy: 0.3785 - val_loss: 3.4938 - val_categorical_accuracy: 0.2770\n",
            "Epoch 20/50\n",
            "\n",
            "Epoch 00020: val_categorical_accuracy improved from 0.27703 to 0.31605, saving model to /content/drive/My Drive/Experimental Projects/Bird Genus/weights/best_weights.h5\n",
            "7176/7176 - 4s - loss: 2.5269 - categorical_accuracy: 0.3945 - val_loss: 3.1274 - val_categorical_accuracy: 0.3161\n",
            "Epoch 21/50\n",
            "\n",
            "Epoch 00021: val_categorical_accuracy did not improve from 0.31605\n",
            "7176/7176 - 4s - loss: 2.4837 - categorical_accuracy: 0.4064 - val_loss: 3.2894 - val_categorical_accuracy: 0.2821\n",
            "Epoch 22/50\n",
            "\n",
            "Epoch 00022: val_categorical_accuracy did not improve from 0.31605\n",
            "7176/7176 - 4s - loss: 2.3771 - categorical_accuracy: 0.4253 - val_loss: 3.4185 - val_categorical_accuracy: 0.2893\n",
            "Epoch 23/50\n",
            "\n",
            "Epoch 00023: val_categorical_accuracy did not improve from 0.31605\n",
            "7176/7176 - 4s - loss: 2.3503 - categorical_accuracy: 0.4261 - val_loss: 3.6120 - val_categorical_accuracy: 0.2547\n",
            "Epoch 24/50\n",
            "\n",
            "Epoch 00024: val_categorical_accuracy did not improve from 0.31605\n",
            "7176/7176 - 4s - loss: 2.2461 - categorical_accuracy: 0.4597 - val_loss: 3.7531 - val_categorical_accuracy: 0.2603\n",
            "Epoch 25/50\n",
            "\n",
            "Epoch 00025: val_categorical_accuracy did not improve from 0.31605\n",
            "\n",
            "Epoch 00025: ReduceLROnPlateau reducing learning rate to 0.00020000000949949026.\n",
            "7176/7176 - 4s - loss: 2.2103 - categorical_accuracy: 0.4561 - val_loss: 3.5916 - val_categorical_accuracy: 0.2882\n",
            "Epoch 26/50\n",
            "\n",
            "Epoch 00026: val_categorical_accuracy improved from 0.31605 to 0.41527, saving model to /content/drive/My Drive/Experimental Projects/Bird Genus/weights/best_weights.h5\n",
            "7176/7176 - 5s - loss: 1.9201 - categorical_accuracy: 0.5344 - val_loss: 2.8398 - val_categorical_accuracy: 0.4153\n",
            "Epoch 27/50\n",
            "\n",
            "Epoch 00027: val_categorical_accuracy did not improve from 0.41527\n",
            "7176/7176 - 4s - loss: 1.7869 - categorical_accuracy: 0.5601 - val_loss: 2.8502 - val_categorical_accuracy: 0.4114\n",
            "Epoch 28/50\n",
            "\n",
            "Epoch 00028: val_categorical_accuracy improved from 0.41527 to 0.42809, saving model to /content/drive/My Drive/Experimental Projects/Bird Genus/weights/best_weights.h5\n",
            "7176/7176 - 4s - loss: 1.7196 - categorical_accuracy: 0.5792 - val_loss: 2.8329 - val_categorical_accuracy: 0.4281\n",
            "Epoch 29/50\n",
            "\n",
            "Epoch 00029: val_categorical_accuracy improved from 0.42809 to 0.43478, saving model to /content/drive/My Drive/Experimental Projects/Bird Genus/weights/best_weights.h5\n",
            "7176/7176 - 4s - loss: 1.7102 - categorical_accuracy: 0.5736 - val_loss: 2.8724 - val_categorical_accuracy: 0.4348\n",
            "Epoch 30/50\n",
            "\n",
            "Epoch 00030: val_categorical_accuracy did not improve from 0.43478\n",
            "7176/7176 - 4s - loss: 1.6458 - categorical_accuracy: 0.5903 - val_loss: 3.3252 - val_categorical_accuracy: 0.3757\n",
            "Epoch 31/50\n",
            "\n",
            "Epoch 00031: val_categorical_accuracy improved from 0.43478 to 0.43757, saving model to /content/drive/My Drive/Experimental Projects/Bird Genus/weights/best_weights.h5\n",
            "7176/7176 - 4s - loss: 1.6224 - categorical_accuracy: 0.5963 - val_loss: 2.8942 - val_categorical_accuracy: 0.4376\n",
            "Epoch 32/50\n",
            "\n",
            "Epoch 00032: val_categorical_accuracy did not improve from 0.43757\n",
            "7176/7176 - 4s - loss: 1.6059 - categorical_accuracy: 0.5959 - val_loss: 2.9498 - val_categorical_accuracy: 0.4264\n",
            "Epoch 33/50\n",
            "\n",
            "Epoch 00033: val_categorical_accuracy did not improve from 0.43757\n",
            "\n",
            "Epoch 00033: ReduceLROnPlateau reducing learning rate to 4.0000001899898055e-05.\n",
            "7176/7176 - 4s - loss: 1.6017 - categorical_accuracy: 0.6026 - val_loss: 2.9927 - val_categorical_accuracy: 0.4164\n",
            "Epoch 34/50\n",
            "\n",
            "Epoch 00034: val_categorical_accuracy improved from 0.43757 to 0.44649, saving model to /content/drive/My Drive/Experimental Projects/Bird Genus/weights/best_weights.h5\n",
            "7176/7176 - 5s - loss: 1.4929 - categorical_accuracy: 0.6318 - val_loss: 2.8219 - val_categorical_accuracy: 0.4465\n",
            "Epoch 35/50\n",
            "\n",
            "Epoch 00035: val_categorical_accuracy improved from 0.44649 to 0.45318, saving model to /content/drive/My Drive/Experimental Projects/Bird Genus/weights/best_weights.h5\n",
            "7176/7176 - 4s - loss: 1.4550 - categorical_accuracy: 0.6381 - val_loss: 2.8362 - val_categorical_accuracy: 0.4532\n",
            "Epoch 36/50\n",
            "\n",
            "Epoch 00036: val_categorical_accuracy did not improve from 0.45318\n",
            "7176/7176 - 4s - loss: 1.4527 - categorical_accuracy: 0.6332 - val_loss: 2.8527 - val_categorical_accuracy: 0.4487\n",
            "Epoch 37/50\n",
            "\n",
            "Epoch 00037: val_categorical_accuracy did not improve from 0.45318\n",
            "7176/7176 - 4s - loss: 1.4653 - categorical_accuracy: 0.6374 - val_loss: 2.8797 - val_categorical_accuracy: 0.4392\n",
            "Epoch 38/50\n",
            "\n",
            "Epoch 00038: val_categorical_accuracy did not improve from 0.45318\n",
            "7176/7176 - 4s - loss: 1.4486 - categorical_accuracy: 0.6377 - val_loss: 2.8458 - val_categorical_accuracy: 0.4515\n",
            "Epoch 39/50\n",
            "\n",
            "Epoch 00039: val_categorical_accuracy did not improve from 0.45318\n",
            "\n",
            "Epoch 00039: ReduceLROnPlateau reducing learning rate to 8.000000525498762e-06.\n",
            "7176/7176 - 4s - loss: 1.4388 - categorical_accuracy: 0.6389 - val_loss: 2.8667 - val_categorical_accuracy: 0.4521\n",
            "Epoch 40/50\n",
            "\n",
            "Epoch 00040: val_categorical_accuracy did not improve from 0.45318\n",
            "7176/7176 - 4s - loss: 1.4277 - categorical_accuracy: 0.6424 - val_loss: 2.8582 - val_categorical_accuracy: 0.4515\n",
            "Epoch 41/50\n",
            "\n",
            "Epoch 00041: val_categorical_accuracy did not improve from 0.45318\n",
            "7176/7176 - 4s - loss: 1.4119 - categorical_accuracy: 0.6434 - val_loss: 2.8573 - val_categorical_accuracy: 0.4476\n",
            "Epoch 42/50\n",
            "\n",
            "Epoch 00042: val_categorical_accuracy did not improve from 0.45318\n",
            "7176/7176 - 4s - loss: 1.4152 - categorical_accuracy: 0.6473 - val_loss: 2.8614 - val_categorical_accuracy: 0.4476\n",
            "Epoch 43/50\n",
            "\n",
            "Epoch 00043: val_categorical_accuracy did not improve from 0.45318\n",
            "7176/7176 - 4s - loss: 1.4100 - categorical_accuracy: 0.6469 - val_loss: 2.8591 - val_categorical_accuracy: 0.4526\n",
            "Epoch 44/50\n",
            "\n",
            "Epoch 00044: val_categorical_accuracy improved from 0.45318 to 0.45429, saving model to /content/drive/My Drive/Experimental Projects/Bird Genus/weights/best_weights.h5\n",
            "\n",
            "Epoch 00044: ReduceLROnPlateau reducing learning rate to 1.6000001778593287e-06.\n",
            "7176/7176 - 5s - loss: 1.4091 - categorical_accuracy: 0.6508 - val_loss: 2.8649 - val_categorical_accuracy: 0.4543\n",
            "Epoch 45/50\n",
            "\n",
            "Epoch 00045: val_categorical_accuracy did not improve from 0.45429\n",
            "7176/7176 - 4s - loss: 1.3986 - categorical_accuracy: 0.6543 - val_loss: 2.8658 - val_categorical_accuracy: 0.4543\n",
            "Epoch 46/50\n",
            "\n",
            "Epoch 00046: val_categorical_accuracy did not improve from 0.45429\n",
            "7176/7176 - 4s - loss: 1.4031 - categorical_accuracy: 0.6566 - val_loss: 2.8650 - val_categorical_accuracy: 0.4532\n",
            "Epoch 47/50\n",
            "\n",
            "Epoch 00047: val_categorical_accuracy did not improve from 0.45429\n",
            "7176/7176 - 4s - loss: 1.4037 - categorical_accuracy: 0.6442 - val_loss: 2.8667 - val_categorical_accuracy: 0.4537\n",
            "Epoch 48/50\n",
            "\n",
            "Epoch 00048: val_categorical_accuracy did not improve from 0.45429\n",
            "7176/7176 - 4s - loss: 1.4048 - categorical_accuracy: 0.6498 - val_loss: 2.8656 - val_categorical_accuracy: 0.4543\n",
            "Epoch 49/50\n",
            "\n",
            "Epoch 00049: val_categorical_accuracy improved from 0.45429 to 0.45485, saving model to /content/drive/My Drive/Experimental Projects/Bird Genus/weights/best_weights.h5\n",
            "\n",
            "Epoch 00049: ReduceLROnPlateau reducing learning rate to 3.200000264769187e-07.\n",
            "7176/7176 - 5s - loss: 1.3994 - categorical_accuracy: 0.6481 - val_loss: 2.8654 - val_categorical_accuracy: 0.4548\n",
            "Epoch 50/50\n",
            "\n",
            "Epoch 00050: val_categorical_accuracy did not improve from 0.45485\n",
            "7176/7176 - 4s - loss: 1.3997 - categorical_accuracy: 0.6506 - val_loss: 2.8656 - val_categorical_accuracy: 0.4532\n"
          ],
          "name": "stdout"
        }
      ]
    },
    {
      "cell_type": "code",
      "metadata": {
        "id": "QcQ-t90F68y0",
        "colab_type": "code",
        "colab": {
          "base_uri": "https://localhost:8080/",
          "height": 281
        },
        "outputId": "5745a14f-86bd-4921-da6d-925cea47025f"
      },
      "source": [
        "plot_accuracy_summary(history)"
      ],
      "execution_count": 15,
      "outputs": [
        {
          "output_type": "display_data",
          "data": {
            "image/png": "[encoded data removed]",
            "text/plain": [
              "<Figure size 432x288 with 1 Axes>"
            ]
          },
          "metadata": {
            "tags": []
          }
        }
      ]
    }
  ]
}